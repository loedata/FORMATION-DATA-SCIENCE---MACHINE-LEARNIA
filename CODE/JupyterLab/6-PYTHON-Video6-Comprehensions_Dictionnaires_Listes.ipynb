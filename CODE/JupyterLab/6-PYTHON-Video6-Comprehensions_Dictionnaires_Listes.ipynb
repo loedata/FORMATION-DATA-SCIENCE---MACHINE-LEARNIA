{
 "cells": [
  {
   "cell_type": "markdown",
   "metadata": {},
   "source": [
    "## List comprehension"
   ]
  },
  {
   "cell_type": "code",
   "execution_count": 2,
   "metadata": {},
   "outputs": [
    {
     "name": "stdout",
     "output_type": "stream",
     "text": [
      "[0, 1, 4, 9, 16, 25, 36, 49, 64, 81]\n"
     ]
    }
   ],
   "source": [
    "# remplir une liste vide par tous les carrés de 0 à 9\n",
    "# méthode 1\n",
    "liste_1=[]\n",
    "for i in range(10):\n",
    "    liste_1.append(i**2)\n",
    "\n",
    "print(liste_1)"
   ]
  },
  {
   "cell_type": "code",
   "execution_count": 4,
   "metadata": {},
   "outputs": [
    {
     "name": "stdout",
     "output_type": "stream",
     "text": [
      "[0, 1, 4, 9, 16, 25, 36, 49, 64, 81]\n"
     ]
    }
   ],
   "source": [
    "# méthode 2 : list comprehension\n",
    "# list comprehension consiste à intégrer la boucle for à l'intérieur de la \n",
    "# liste elle-même\n",
    "liste_2 = [i**2 for i in range(10)] #liste compréhension\n",
    "print(liste_2)"
   ]
  },
  {
   "cell_type": "code",
   "execution_count": 11,
   "metadata": {},
   "outputs": [
    {
     "name": "stdout",
     "output_type": "stream",
     "text": [
      "METHODE 1 - BOUCLE FOR :  2.8506269454956055 secondes\n",
      "METHODE 2 - LIST COMPREHENSION :  2.194279193878174 secondes\n"
     ]
    }
   ],
   "source": [
    "# plus rapide ?\n",
    "\n",
    "import time\n",
    "\n",
    "#  boucle for :\n",
    "\n",
    "start = time.time()\n",
    "\n",
    "liste_1=[]\n",
    "for i in range(10000000):\n",
    "    liste_1.append(i**2)\n",
    "\n",
    "end = time.time()\n",
    "\n",
    "print(\"METHODE 1 - BOUCLE FOR : \", end-start, 'secondes')\n",
    "\n",
    "#  List comprehension :\n",
    "\n",
    "start = time.time()\n",
    "\n",
    "liste_2 = [i**2 for i in range(10000000)]\n",
    "\n",
    "end = time.time()\n",
    "\n",
    "print(\"METHODE 2 - LIST COMPREHENSION : \", end-start, 'secondes')\n"
   ]
  },
  {
   "cell_type": "code",
   "execution_count": 15,
   "metadata": {},
   "outputs": [
    {
     "name": "stdout",
     "output_type": "stream",
     "text": [
      "[0, 1, 2]\n"
     ]
    },
    {
     "data": {
      "text/plain": [
       "[[0, 1, 2], [0, 1, 2], [0, 1, 2]]"
      ]
     },
     "execution_count": 15,
     "metadata": {},
     "output_type": "execute_result"
    }
   ],
   "source": [
    "# list comprehension dans les nested listes\n",
    "liste_3=[i for i in range(3)]\n",
    "print(liste_3)\n",
    "# répétition de la liste [0,1,2] dans liste_4 :\n",
    "liste_4=[[i for i in range(3)] for j in range(3)]\n",
    "liste_4"
   ]
  },
  {
   "cell_type": "code",
   "execution_count": 17,
   "metadata": {},
   "outputs": [
    {
     "name": "stdout",
     "output_type": "stream",
     "text": [
      "[[0, 1, 2], [1, 2, 3], [2, 3, 4]]\n"
     ]
    }
   ],
   "source": [
    "# répétition de la liste [0,1,2] dans liste_4 en incrémentant i+j:\n",
    "liste_5=[[i+j for i in range(3)] for j in range(3)]\n",
    "print(liste_5)"
   ]
  },
  {
   "cell_type": "markdown",
   "metadata": {},
   "source": [
    "## Dict comprehension"
   ]
  },
  {
   "cell_type": "code",
   "execution_count": 26,
   "metadata": {},
   "outputs": [
    {
     "name": "stdout",
     "output_type": "stream",
     "text": [
      "{'0': 'Pierre', '1': 'Jean', '2': 'Julie', '3': 'Lucie'}\n"
     ]
    }
   ],
   "source": [
    "# création dictionnaire METHODE 1\n",
    "dictionnaire ={\n",
    "    '0' : 'Pierre',\n",
    "    '1' : 'Jean',\n",
    "    '2' : 'Julie',\n",
    "    '3' : 'Lucie'\n",
    "}\n",
    "print(dictionnaire)"
   ]
  },
  {
   "cell_type": "markdown",
   "metadata": {},
   "source": [
    "### Clés valeurs"
   ]
  },
  {
   "cell_type": "code",
   "execution_count": 24,
   "metadata": {},
   "outputs": [
    {
     "name": "stdout",
     "output_type": "stream",
     "text": [
      "{0: 'Pierre', 1: 'Jean', 2: 'Julie', 3: 'Lucie'}\n"
     ]
    }
   ],
   "source": [
    "# METHODE 2 : DICT COMPREHENSION\n",
    "# création du dictionnaire si au départ on a une liste prénom\n",
    "# liste des prénoms\n",
    "prenoms = ['Pierre', 'Jean','Julie','Lucie']\n",
    "dico = {k:v for k, v in enumerate(prenoms)}\n",
    "print(dico)"
   ]
  },
  {
   "cell_type": "code",
   "execution_count": 27,
   "metadata": {},
   "outputs": [
    {
     "name": "stdout",
     "output_type": "stream",
     "text": [
      "dict_keys([0, 1, 2, 3])\n",
      "dict_values(['Pierre', 'Jean', 'Julie', 'Lucie'])\n"
     ]
    }
   ],
   "source": [
    "# récupérer les clés\n",
    "print(dico.keys())\n",
    "\n",
    "# récupérer les valeurs\n",
    "print(dico.values())"
   ]
  },
  {
   "cell_type": "markdown",
   "metadata": {},
   "source": [
    "### Utilisation de zip"
   ]
  },
  {
   "cell_type": "code",
   "execution_count": 30,
   "metadata": {},
   "outputs": [],
   "source": [
    "# utilisation de zip\n",
    "ages = [24, 62, 10, 23]"
   ]
  },
  {
   "cell_type": "code",
   "execution_count": 33,
   "metadata": {},
   "outputs": [
    {
     "name": "stdout",
     "output_type": "stream",
     "text": [
      "{'Pierre': 24, 'Jean': 62, 'Julie': 10, 'Lucie': 23}\n"
     ]
    }
   ],
   "source": [
    "# création d'un dictionnaire avec clé=prénom et valeur=age avec zip\n",
    "dico_2 = {prenom:age for prenom, age in zip(prenoms, ages)}\n",
    "print(dico_2)"
   ]
  },
  {
   "cell_type": "markdown",
   "metadata": {},
   "source": [
    "### Inclure des conditions après le for"
   ]
  },
  {
   "cell_type": "code",
   "execution_count": 34,
   "metadata": {},
   "outputs": [
    {
     "name": "stdout",
     "output_type": "stream",
     "text": [
      "{'Jean': 62}\n"
     ]
    }
   ],
   "source": [
    "# inclure des conditions après le for\n",
    "dico_3 = {prenom:age for prenom, age in zip(prenoms, ages) if age > 30}\n",
    "print(dico_3)"
   ]
  },
  {
   "cell_type": "code",
   "execution_count": 36,
   "metadata": {},
   "outputs": [
    {
     "name": "stdout",
     "output_type": "stream",
     "text": [
      "{'Pierre': 24, 'Jean': 62, 'Lucie': 23}\n"
     ]
    }
   ],
   "source": [
    "# inclure des conditions après le for\n",
    "dico_4 = {prenom:age for prenom, age in zip(prenoms, ages) if age > 20}\n",
    "print(dico_4)"
   ]
  },
  {
   "cell_type": "markdown",
   "metadata": {},
   "source": [
    "## Tuple Comprehension"
   ]
  },
  {
   "cell_type": "code",
   "execution_count": 37,
   "metadata": {},
   "outputs": [
    {
     "name": "stdout",
     "output_type": "stream",
     "text": [
      "<generator object <genexpr> at 0x0000021E26E4A900>\n"
     ]
    }
   ],
   "source": [
    "# on crée un tuple mais un objet générator\n",
    "tuple_1=(i**2 for i in range(10))\n",
    "print(tuple_1)"
   ]
  },
  {
   "cell_type": "code",
   "execution_count": 38,
   "metadata": {},
   "outputs": [
    {
     "name": "stdout",
     "output_type": "stream",
     "text": [
      "(0, 1, 4, 9, 16, 25, 36, 49, 64, 81)\n"
     ]
    }
   ],
   "source": [
    "# astuce pour afficher le tuple transformer le generator en tuple()\n",
    "tuple_2=tuple((i**2 for i in range(10)))\n",
    "print(tuple_2)"
   ]
  },
  {
   "cell_type": "code",
   "execution_count": 40,
   "metadata": {},
   "outputs": [
    {
     "name": "stdout",
     "output_type": "stream",
     "text": [
      "positif  :  [15, 0, 105520]\n",
      "negatif  :  [-2, -5245]\n"
     ]
    }
   ],
   "source": [
    "# créer une fonction 'trier' ayant pour arguments un dictionnaire nommé \n",
    "# 'classeur' liste et positif, liste et négatif \n",
    "# ranger dans la liste négatif ou liste positif\n",
    "\n",
    "# dictionnaire 'classeur'\n",
    "classeur = {\n",
    "    \"positif\" :[],\n",
    "    \"negatif\" :[],\n",
    "}\n",
    "\n",
    "# fonction trier\n",
    "def trier(classeur, nombre):\n",
    "    \"\"\"\n",
    "        classeur : dictionnaire taille 2\n",
    "        nombre : int\n",
    "        Range le nombre dans 'positifs' ou 'negatif' selon le signe de nombre\n",
    "    \"\"\"\n",
    "    if nombre >= 0:\n",
    "        classeur['positif'].append(nombre)\n",
    "    else:\n",
    "        classeur['negatif'].append(nombre)\n",
    "    return classeur\n",
    "\n",
    "trier(classeur,15)\n",
    "trier(classeur,-2)\n",
    "trier(classeur,0)\n",
    "trier(classeur,105520)\n",
    "trier(classeur,-5245)\n",
    "\n",
    "for cle, valeur in classeur.items():\n",
    "    print(cle,' : ',valeur)"
   ]
  },
  {
   "cell_type": "code",
   "execution_count": 44,
   "metadata": {},
   "outputs": [
    {
     "name": "stdout",
     "output_type": "stream",
     "text": [
      "{0: 0, 1: 1, 2: 4, 3: 9, 4: 16, 5: 25, 6: 36, 7: 49, 8: 64, 9: 81, 10: 100, 11: 121, 12: 144, 13: 169, 14: 196, 15: 225, 16: 256, 17: 289, 18: 324, 19: 361, 20: 400}\n"
     ]
    }
   ],
   "source": [
    "# créer un dictionnaire avec les dict comprehension\n",
    "# dictionnaire k=clé:v=valeur\n",
    "# k de 0 à 20\n",
    "# v = k**2\n",
    "dictionnaire = {k:k**2 for k in range(21)}\n",
    "print(dictionnaire)"
   ]
  },
  {
   "cell_type": "code",
   "execution_count": null,
   "metadata": {},
   "outputs": [],
   "source": []
  }
 ],
 "metadata": {
  "kernelspec": {
   "display_name": "Python 3",
   "language": "python",
   "name": "python3"
  },
  "language_info": {
   "codemirror_mode": {
    "name": "ipython",
    "version": 3
   },
   "file_extension": ".py",
   "mimetype": "text/x-python",
   "name": "python",
   "nbconvert_exporter": "python",
   "pygments_lexer": "ipython3",
   "version": "3.8.3"
  }
 },
 "nbformat": 4,
 "nbformat_minor": 4
}
