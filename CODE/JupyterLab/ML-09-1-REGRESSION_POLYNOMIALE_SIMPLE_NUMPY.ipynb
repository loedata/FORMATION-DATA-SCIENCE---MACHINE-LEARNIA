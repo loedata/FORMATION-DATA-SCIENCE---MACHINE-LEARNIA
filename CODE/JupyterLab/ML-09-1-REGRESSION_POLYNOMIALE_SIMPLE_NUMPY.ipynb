{
 "cells": [
  {
   "cell_type": "markdown",
   "metadata": {},
   "source": [
    "## REGRESSION POLYNOMIALE SIMPLE AVEC NUMPY"
   ]
  },
  {
   "cell_type": "code",
   "execution_count": 1,
   "metadata": {},
   "outputs": [],
   "source": [
    "# Chargement de numpy\n",
    "import numpy as np\n",
    "# dataset génération aléatoire avec sklearn.make_regression\n",
    "from sklearn.datasets import make_regression\n",
    "# pour les graphiques\n",
    "import matplotlib.pyplot as plt"
   ]
  },
  {
   "cell_type": "markdown",
   "metadata": {},
   "source": [
    "### 1. DATASET"
   ]
  },
  {
   "cell_type": "code",
   "execution_count": 2,
   "metadata": {},
   "outputs": [],
   "source": [
    "# dataset génération aléatoire avec sklearn.make_regression\n",
    "# avec vecteur Y, matrice X et vecteur teta\n",
    "x, y = make_regression(n_samples=100, n_features=1, noise=10)\n",
    "y = y + abs(y/2)"
   ]
  },
  {
   "cell_type": "code",
   "execution_count": 3,
   "metadata": {},
   "outputs": [
    {
     "data": {
      "image/png": "[encoded data removed]",
      "text/plain": [
       "<Figure size 432x288 with 1 Axes>"
      ]
     },
     "metadata": {
      "needs_background": "light"
     },
     "output_type": "display_data"
    }
   ],
   "source": [
    "# visualiser y en fonction de x\n",
    "plt.scatter(x, y)\n",
    "plt.show()\n",
    "# courbe non convexe, polynomiale de degré 2 au minimum"
   ]
  },
  {
   "cell_type": "markdown",
   "metadata": {},
   "source": [
    "#### GESTION DU VECTEUR Y"
   ]
  },
  {
   "cell_type": "code",
   "execution_count": 37,
   "metadata": {},
   "outputs": [
    {
     "name": "stdout",
     "output_type": "stream",
     "text": [
      "(100, 1)\n",
      "(100, 1)\n"
     ]
    }
   ],
   "source": [
    "# Vérification des dimensions de la matrice\n",
    "print(x.shape) # 100 lignes, 1 colonne\n",
    "print(y.shape) # 100 lignes, rien : dimension incomplète ==> la compléter reshape()"
   ]
  },
  {
   "cell_type": "code",
   "execution_count": 38,
   "metadata": {},
   "outputs": [
    {
     "name": "stdout",
     "output_type": "stream",
     "text": [
      "(100, 1)\n"
     ]
    }
   ],
   "source": [
    "y = y.reshape(y.shape[0],1)\n",
    "print(y.shape)"
   ]
  },
  {
   "cell_type": "markdown",
   "metadata": {},
   "source": [
    "#### GESTION DE LA MATRICE X"
   ]
  },
  {
   "cell_type": "code",
   "execution_count": 54,
   "metadata": {},
   "outputs": [
    {
     "data": {
      "text/plain": [
       "(100, 3)"
      ]
     },
     "execution_count": 54,
     "metadata": {},
     "output_type": "execute_result"
    }
   ],
   "source": [
    "# il nous faut une colonne X avec une colonne de biais : hstack\n",
    "X = np.hstack((x, np.ones(x.shape)))\n",
    "X = np.hstack((x**2, X))\n",
    "X.shape"
   ]
  },
  {
   "cell_type": "code",
   "execution_count": 55,
   "metadata": {},
   "outputs": [
    {
     "data": {
      "text/plain": [
       "array([[ 0.04024125, -0.20060221,  1.        ],\n",
       "       [ 0.26123028, -0.51110691,  1.        ],\n",
       "       [ 0.97590123,  0.98787713,  1.        ],\n",
       "       [ 0.17758269,  0.42140561,  1.        ],\n",
       "       [ 0.01787627,  0.13370218,  1.        ],\n",
       "       [ 2.02496112, -1.42301128,  1.        ],\n",
       "       [ 0.13848016, -0.37212922,  1.        ],\n",
       "       [ 3.34607612, -1.82922828,  1.        ],\n",
       "       [ 3.0930821 ,  1.75871604,  1.        ],\n",
       "       [ 0.23460453,  0.48435992,  1.        ]])"
      ]
     },
     "execution_count": 55,
     "metadata": {},
     "output_type": "execute_result"
    }
   ],
   "source": [
    "X[:10]"
   ]
  },
  {
   "cell_type": "markdown",
   "metadata": {},
   "source": [
    "### GESTION DU VECTEUR TETA"
   ]
  },
  {
   "cell_type": "code",
   "execution_count": 56,
   "metadata": {},
   "outputs": [
    {
     "data": {
      "text/plain": [
       "(3, 1)"
      ]
     },
     "execution_count": 56,
     "metadata": {},
     "output_type": "execute_result"
    }
   ],
   "source": [
    "# teta non connu, on doit initilaiser téta avec des paramètres aléatoires en 3 dimension pour 3\n",
    "# paramètres a, b et c\n",
    "theta = np.random.randn(3, 1)\n",
    "theta.shape"
   ]
  },
  {
   "cell_type": "code",
   "execution_count": 42,
   "metadata": {},
   "outputs": [
    {
     "data": {
      "text/plain": [
       "array([[-0.35839051],\n",
       "       [-1.64713925],\n",
       "       [-0.04738528]])"
      ]
     },
     "execution_count": 42,
     "metadata": {},
     "output_type": "execute_result"
    }
   ],
   "source": [
    "theta # initialisé aléatoirement"
   ]
  },
  {
   "cell_type": "markdown",
   "metadata": {},
   "source": [
    "## 2. MODELE"
   ]
  },
  {
   "cell_type": "code",
   "execution_count": 57,
   "metadata": {},
   "outputs": [],
   "source": [
    "# modèle linéaire ==> f(x) =X*theta\n",
    "def model(X,theta):\n",
    "    return X.dot(theta)"
   ]
  },
  {
   "cell_type": "code",
   "execution_count": 58,
   "metadata": {},
   "outputs": [
    {
     "data": {
      "text/plain": [
       "array([[-0.16569437],\n",
       "       [ 0.08902577],\n",
       "       [-1.22345544],\n",
       "       [-0.70291236],\n",
       "       [-0.44995732],\n",
       "       [ 0.78528945],\n",
       "       [-0.02387554],\n",
       "       [ 1.07056076],\n",
       "       [-1.97970814],\n",
       "       [-0.75928917],\n",
       "       [-0.10786662],\n",
       "       [-0.24794903],\n",
       "       [ 0.40815327],\n",
       "       [ 0.51410133],\n",
       "       [-0.77462049],\n",
       "       [-1.20995904],\n",
       "       [-1.75940891],\n",
       "       [-1.60636205],\n",
       "       [ 0.87202052],\n",
       "       [-1.23379643],\n",
       "       [-0.54089763],\n",
       "       [ 0.18416702],\n",
       "       [ 0.54217726],\n",
       "       [-1.13138224],\n",
       "       [-2.43139647],\n",
       "       [ 0.19554809],\n",
       "       [ 0.12550033],\n",
       "       [-1.90051369],\n",
       "       [-0.01465698],\n",
       "       [-0.05845241],\n",
       "       [-0.97172235],\n",
       "       [ 0.41237748],\n",
       "       [-2.01512971],\n",
       "       [ 0.85260764],\n",
       "       [ 0.16303768],\n",
       "       [-1.76962054],\n",
       "       [ 0.73289443],\n",
       "       [ 0.11474372],\n",
       "       [-0.18463787],\n",
       "       [-0.18457285],\n",
       "       [-1.10901312],\n",
       "       [-0.11001244],\n",
       "       [-1.68703927],\n",
       "       [-0.40105597],\n",
       "       [-0.63464713],\n",
       "       [-1.14255653],\n",
       "       [ 0.48686166],\n",
       "       [ 0.50034878],\n",
       "       [-0.74276238],\n",
       "       [-0.28656891],\n",
       "       [ 0.63411487],\n",
       "       [-0.22546935],\n",
       "       [-0.1075085 ],\n",
       "       [-1.79971284],\n",
       "       [-1.31331042],\n",
       "       [-0.15737141],\n",
       "       [-0.24253064],\n",
       "       [-0.05403077],\n",
       "       [-0.46791163],\n",
       "       [ 0.51819198],\n",
       "       [-1.05809137],\n",
       "       [ 0.09627861],\n",
       "       [ 0.76911246],\n",
       "       [-0.62263128],\n",
       "       [ 0.33097445],\n",
       "       [ 0.78792001],\n",
       "       [-1.05493956],\n",
       "       [ 0.07101416],\n",
       "       [-1.53036313],\n",
       "       [ 0.32397338],\n",
       "       [ 0.17544902],\n",
       "       [-0.18183385],\n",
       "       [-1.25057338],\n",
       "       [ 0.14977746],\n",
       "       [-1.2256985 ],\n",
       "       [ 0.44514026],\n",
       "       [-0.48807867],\n",
       "       [ 1.15590691],\n",
       "       [ 0.79802677],\n",
       "       [-2.39397461],\n",
       "       [-0.94064203],\n",
       "       [ 0.32176813],\n",
       "       [-1.10339394],\n",
       "       [-0.53562005],\n",
       "       [-1.1773655 ],\n",
       "       [ 0.31397263],\n",
       "       [ 0.39721757],\n",
       "       [-1.32592095],\n",
       "       [-2.37115633],\n",
       "       [-0.84913834],\n",
       "       [-0.01117722],\n",
       "       [-0.0956029 ],\n",
       "       [-0.96928306],\n",
       "       [ 0.44028937],\n",
       "       [-0.83902975],\n",
       "       [-2.4685548 ],\n",
       "       [ 0.77684615],\n",
       "       [-0.9651984 ],\n",
       "       [-0.10343967],\n",
       "       [ 0.42007633]])"
      ]
     },
     "execution_count": 58,
     "metadata": {},
     "output_type": "execute_result"
    }
   ],
   "source": [
    "# le modèle est disponible, on peut l'utiliser\n",
    "model(X, theta)"
   ]
  },
  {
   "cell_type": "code",
   "execution_count": 59,
   "metadata": {},
   "outputs": [
    {
     "data": {
      "image/png": "[encoded data removed]",
      "text/plain": [
       "<Figure size 432x288 with 1 Axes>"
      ]
     },
     "metadata": {
      "needs_background": "light"
     },
     "output_type": "display_data"
    }
   ],
   "source": [
    "# afficher avec matplotlib les résultats de notre model par rapport au dataset\n",
    "plt.plot(x, model(X, theta))\n",
    "plt.show()"
   ]
  },
  {
   "cell_type": "code",
   "execution_count": 60,
   "metadata": {},
   "outputs": [
    {
     "data": {
      "image/png": "[encoded data removed]",
      "text/plain": [
       "<Figure size 432x288 with 1 Axes>"
      ]
     },
     "metadata": {
      "needs_background": "light"
     },
     "output_type": "display_data"
    }
   ],
   "source": [
    "# en comparaison avec le dataset\n",
    "plt.scatter(x, y)\n",
    "plt.plot(x, model(X, theta), c='r')\n",
    "plt.show() #pas très bon modèle"
   ]
  },
  {
   "cell_type": "markdown",
   "metadata": {},
   "source": [
    "## 3. FONCTION COUT"
   ]
  },
  {
   "cell_type": "code",
   "execution_count": 61,
   "metadata": {},
   "outputs": [],
   "source": [
    "# erreur quadratique moyenne\n",
    "def fonction_cout(X, y, theta):\n",
    "    m=len(y)\n",
    "    return 1/(2*m) * np.sum((model(X, theta)-y)**2)"
   ]
  },
  {
   "cell_type": "code",
   "execution_count": 62,
   "metadata": {},
   "outputs": [
    {
     "data": {
      "text/plain": [
       "932.5701702702196"
      ]
     },
     "execution_count": 62,
     "metadata": {},
     "output_type": "execute_result"
    }
   ],
   "source": [
    "fonction_cout(X, y, theta) #fort coût car on veut qu'il tende vers 0"
   ]
  },
  {
   "cell_type": "markdown",
   "metadata": {},
   "source": [
    "## DESCENTE DE GRADIENT"
   ]
  },
  {
   "cell_type": "markdown",
   "metadata": {},
   "source": [
    "### GESTION DU GRADIENT"
   ]
  },
  {
   "cell_type": "code",
   "execution_count": 63,
   "metadata": {},
   "outputs": [],
   "source": [
    "# fonction pour calculer le gradient\n",
    "def gradient(X, y, theta):\n",
    "    m = len(y)\n",
    "    return 1/m * X.T.dot(model(X,theta) - y)"
   ]
  },
  {
   "cell_type": "markdown",
   "metadata": {},
   "source": [
    "### GESTION DE LA DESCENTE DE GRADIENT"
   ]
  },
  {
   "cell_type": "code",
   "execution_count": 64,
   "metadata": {},
   "outputs": [],
   "source": [
    "# fonction de la descente de gradient itérative\n",
    "def gradient_descente(X, y, theta, learning_rate, n_iterations):\n",
    "    for i in range(0, n_iterations):\n",
    "        theta = theta - learning_rate * gradient(X, y, theta) \n",
    "    return theta"
   ]
  },
  {
   "cell_type": "markdown",
   "metadata": {},
   "source": [
    "## 4. ENTRAINEMENT DU MODELE"
   ]
  },
  {
   "cell_type": "code",
   "execution_count": 125,
   "metadata": {},
   "outputs": [],
   "source": [
    "theta_final = gradient_descente(X, y, theta, learning_rate=0.001, n_iterations=10000)"
   ]
  },
  {
   "cell_type": "code",
   "execution_count": 126,
   "metadata": {},
   "outputs": [
    {
     "data": {
      "text/plain": [
       "array([[ 7.31294449],\n",
       "       [34.14168965],\n",
       "       [ 7.68967775]])"
      ]
     },
     "execution_count": 126,
     "metadata": {},
     "output_type": "execute_result"
    }
   ],
   "source": [
    "theta_final"
   ]
  },
  {
   "cell_type": "code",
   "execution_count": 127,
   "metadata": {},
   "outputs": [
    {
     "data": {
      "image/png": "[encoded data removed]",
      "text/plain": [
       "<Figure size 432x288 with 1 Axes>"
      ]
     },
     "metadata": {
      "needs_background": "light"
     },
     "output_type": "display_data"
    }
   ],
   "source": [
    "# est-ce que ce vecteur paramètre nous donne une bonne prédictions?\n",
    "predictions = model(X, theta_final)\n",
    "plt.scatter(x[:,0], y)\n",
    "plt.scatter(x[:,0], predictions, c='r')\n",
    "plt.show()\n",
    "# un peu mieux mais pas suffisant, l'apprentissage n'est pas terminé"
   ]
  },
  {
   "cell_type": "code",
   "execution_count": 128,
   "metadata": {},
   "outputs": [],
   "source": [
    "# faire continuer l'apprentissage \n",
    "# soit en refait des itérations\n",
    "# soit on joue sur le learning rate .. .on fait de trop petit pas ==> 0.01."
   ]
  },
  {
   "cell_type": "code",
   "execution_count": 129,
   "metadata": {},
   "outputs": [],
   "source": [
    "theta_final_2 = gradient_descente(X, y, theta, learning_rate=0.01, n_iterations=1000)"
   ]
  },
  {
   "cell_type": "code",
   "execution_count": 130,
   "metadata": {},
   "outputs": [
    {
     "data": {
      "text/plain": [
       "array([[ 7.31223509],\n",
       "       [34.14213966],\n",
       "       [ 7.69087906]])"
      ]
     },
     "execution_count": 130,
     "metadata": {},
     "output_type": "execute_result"
    }
   ],
   "source": [
    "theta_final_2"
   ]
  },
  {
   "cell_type": "code",
   "execution_count": 131,
   "metadata": {},
   "outputs": [
    {
     "data": {
      "image/png": "[encoded data removed]",
      "text/plain": [
       "<Figure size 432x288 with 1 Axes>"
      ]
     },
     "metadata": {
      "needs_background": "light"
     },
     "output_type": "display_data"
    }
   ],
   "source": [
    "# est-ce que ce vecteur paramètre nous donne une bonne prédictions?\n",
    "predictions = model(X, theta_final_2)\n",
    "plt.scatter(x[:,0], y)\n",
    "plt.scatter(x[:,0], predictions, c='r')\n",
    "plt.show()\n",
    "# oui bien meilleur résultat en réentrainant le modèle"
   ]
  },
  {
   "cell_type": "markdown",
   "metadata": {},
   "source": [
    "## 5. COURBE D'APPRENTISSAGE"
   ]
  },
  {
   "cell_type": "code",
   "execution_count": 132,
   "metadata": {},
   "outputs": [],
   "source": [
    "# comment tracer la minimisation de notre fonction coût avec le nombre d'itérations?\n",
    "# comment voir si la machine réussi à bien apprendre?\n",
    "# en modifiant la descente de gradient\n",
    "def gradient_descente_bis(X, y, theta, learning_rate, n_iterations):\n",
    "    # tableau rempli de zéro de dimension le nbre d'itérations\n",
    "    cost_history= np.zeros(n_iterations)\n",
    "    for i in range(0, n_iterations):\n",
    "        theta = theta - learning_rate * gradient(X, y, theta) \n",
    "        # on sauvegarde le coût pour chaque itération\n",
    "        cost_history[i] = fonction_cout(X, y, theta)\n",
    "    return theta, cost_history"
   ]
  },
  {
   "cell_type": "code",
   "execution_count": 133,
   "metadata": {},
   "outputs": [],
   "source": [
    "theta_final_2, cost_history = gradient_descente_bis(X, y, theta,\n",
    "                                                    learning_rate=0.01, n_iterations=10000)"
   ]
  },
  {
   "cell_type": "code",
   "execution_count": 135,
   "metadata": {},
   "outputs": [
    {
     "data": {
      "image/png": "[encoded data removed]",
      "text/plain": [
       "<Figure size 432x288 with 1 Axes>"
      ]
     },
     "metadata": {
      "needs_background": "light"
     },
     "output_type": "display_data"
    }
   ],
   "source": [
    "# tracer la progression de la fonction cout en fonction de l'itération\n",
    "plt.plot(range(10000), cost_history)\n",
    "plt.show()\n",
    "# on peut voir que passer 400 itérations la machine ne progresse plus"
   ]
  },
  {
   "cell_type": "markdown",
   "metadata": {},
   "source": [
    "## 6 COEFFICIENT DE DETERMINATION"
   ]
  },
  {
   "cell_type": "code",
   "execution_count": 136,
   "metadata": {},
   "outputs": [],
   "source": [
    "# comment évaluer la performance de notre modèle en utilisant le coefficient de détermination\n",
    "# coef de détermination = R au carré - méthode des moindes carrés\n",
    "def coefficient_determination(y, predictions):\n",
    "    u = ((y - predictions)**2).sum()\n",
    "    v = ((y - y.mean())**2).sum()\n",
    "    return 1 - u/v"
   ]
  },
  {
   "cell_type": "code",
   "execution_count": 137,
   "metadata": {},
   "outputs": [
    {
     "data": {
      "text/plain": [
       "0.9274739392527402"
      ]
     },
     "execution_count": 137,
     "metadata": {},
     "output_type": "execute_result"
    }
   ],
   "source": [
    "#  calcul pour y et vecteur prédiction\n",
    "coefficient_determination(y, predictions)\n",
    "# 0.95 proche de 1 ==> OK maispeu faire mieux"
   ]
  },
  {
   "cell_type": "code",
   "execution_count": null,
   "metadata": {},
   "outputs": [],
   "source": []
  }
 ],
 "metadata": {
  "kernelspec": {
   "display_name": "Python 3",
   "language": "python",
   "name": "python3"
  },
  "language_info": {
   "codemirror_mode": {
    "name": "ipython",
    "version": 3
   },
   "file_extension": ".py",
   "mimetype": "text/x-python",
   "name": "python",
   "nbconvert_exporter": "python",
   "pygments_lexer": "ipython3",
   "version": "3.8.5"
  }
 },
 "nbformat": 4,
 "nbformat_minor": 4
}
