{
 "cells": [
  {
   "cell_type": "markdown",
   "metadata": {},
   "source": [
    "## REGRESSION LINEAIRE NUMPY"
   ]
  },
  {
   "cell_type": "code",
   "execution_count": 2,
   "metadata": {},
   "outputs": [],
   "source": [
    "# Chargement de numpy\n",
    "import numpy as np\n",
    "# dataset génération aléatoire avec sklearn.make_regression\n",
    "from sklearn.datasets import make_regression\n",
    "# pour les graphiques\n",
    "import matplotlib.pyplot as plt"
   ]
  },
  {
   "cell_type": "markdown",
   "metadata": {},
   "source": [
    "### 1. DATASET"
   ]
  },
  {
   "cell_type": "code",
   "execution_count": 14,
   "metadata": {},
   "outputs": [],
   "source": [
    "# dataset génération aléatoire avec sklearn.make_regression\n",
    "# avec vecteur Y, matrice X et vecteur teta\n",
    "x, y = make_regression(n_samples=100, n_features=1, noise=10)"
   ]
  },
  {
   "cell_type": "code",
   "execution_count": 15,
   "metadata": {},
   "outputs": [
    {
     "data": {
      "image/png": "[encoded data removed]",
      "text/plain": [
       "<Figure size 432x288 with 1 Axes>"
      ]
     },
     "metadata": {
      "needs_background": "light"
     },
     "output_type": "display_data"
    }
   ],
   "source": [
    "# visualiser y en fonction de x\n",
    "plt.scatter(x, y)\n",
    "plt.show()"
   ]
  },
  {
   "cell_type": "markdown",
   "metadata": {},
   "source": [
    "#### GESTION DU VECTEUR Y"
   ]
  },
  {
   "cell_type": "code",
   "execution_count": 16,
   "metadata": {},
   "outputs": [
    {
     "name": "stdout",
     "output_type": "stream",
     "text": [
      "(100, 1)\n",
      "(100,)\n"
     ]
    }
   ],
   "source": [
    "# Vérification des dimensions de la matrice\n",
    "print(x.shape) # 100 lignes, 1 colonne\n",
    "print(y.shape) # 100 lignes, rien : dimension incomplète ==> la compléter reshape()"
   ]
  },
  {
   "cell_type": "code",
   "execution_count": 17,
   "metadata": {},
   "outputs": [
    {
     "name": "stdout",
     "output_type": "stream",
     "text": [
      "(100, 1)\n"
     ]
    }
   ],
   "source": [
    "y = y.reshape(y.shape[0],1)\n",
    "print(y.shape)"
   ]
  },
  {
   "cell_type": "markdown",
   "metadata": {},
   "source": [
    "#### GESTION DE LA MATRICE X"
   ]
  },
  {
   "cell_type": "code",
   "execution_count": 18,
   "metadata": {},
   "outputs": [
    {
     "data": {
      "text/plain": [
       "(100, 2)"
      ]
     },
     "execution_count": 18,
     "metadata": {},
     "output_type": "execute_result"
    }
   ],
   "source": [
    "# il nous faut une colonne X avec une colonne de biais : hstack\n",
    "X = np.hstack((x, np.ones(x.shape)))\n",
    "X.shape"
   ]
  },
  {
   "cell_type": "code",
   "execution_count": 19,
   "metadata": {},
   "outputs": [
    {
     "data": {
      "text/plain": [
       "array([[ 0.79623827,  1.        ],\n",
       "       [-0.62685902,  1.        ],\n",
       "       [-1.81427208,  1.        ],\n",
       "       [-1.35435055,  1.        ],\n",
       "       [ 0.01381112,  1.        ],\n",
       "       [ 0.1145574 ,  1.        ],\n",
       "       [-1.19468944,  1.        ],\n",
       "       [-1.10407049,  1.        ],\n",
       "       [ 0.54730362,  1.        ],\n",
       "       [ 0.57122027,  1.        ],\n",
       "       [ 0.83790024,  1.        ],\n",
       "       [-0.46016024,  1.        ],\n",
       "       [-2.14078882,  1.        ],\n",
       "       [-1.80908578,  1.        ],\n",
       "       [ 0.16568589,  1.        ],\n",
       "       [-0.32224939,  1.        ],\n",
       "       [-0.38806666,  1.        ],\n",
       "       [-1.12746211,  1.        ],\n",
       "       [ 0.53078288,  1.        ],\n",
       "       [-0.88517325,  1.        ],\n",
       "       [ 0.22378597,  1.        ],\n",
       "       [ 0.69994383,  1.        ],\n",
       "       [ 1.38191607,  1.        ],\n",
       "       [-0.68199187,  1.        ],\n",
       "       [ 1.73470211,  1.        ],\n",
       "       [-1.88873196,  1.        ],\n",
       "       [ 1.33824708,  1.        ],\n",
       "       [-0.12256839,  1.        ],\n",
       "       [ 0.57736549,  1.        ],\n",
       "       [-0.1234931 ,  1.        ],\n",
       "       [-0.31212564,  1.        ],\n",
       "       [-0.23080307,  1.        ],\n",
       "       [-0.08891439,  1.        ],\n",
       "       [ 0.98477429,  1.        ],\n",
       "       [ 0.33176822,  1.        ],\n",
       "       [-2.10562967,  1.        ],\n",
       "       [ 1.19211362,  1.        ],\n",
       "       [ 0.80025247,  1.        ],\n",
       "       [-0.47197758,  1.        ],\n",
       "       [-0.10901719,  1.        ],\n",
       "       [-1.1784998 ,  1.        ],\n",
       "       [ 1.73757741,  1.        ],\n",
       "       [ 1.617895  ,  1.        ],\n",
       "       [-1.27980239,  1.        ],\n",
       "       [-1.16661474,  1.        ],\n",
       "       [-1.30043731,  1.        ],\n",
       "       [ 0.38579585,  1.        ],\n",
       "       [-0.15826447,  1.        ],\n",
       "       [ 1.09445432,  1.        ],\n",
       "       [ 0.122172  ,  1.        ],\n",
       "       [-0.63711787,  1.        ],\n",
       "       [-1.2548877 ,  1.        ],\n",
       "       [-1.58385658,  1.        ],\n",
       "       [-1.38752903,  1.        ],\n",
       "       [-1.33284925,  1.        ],\n",
       "       [-0.29616872,  1.        ],\n",
       "       [-0.88327412,  1.        ],\n",
       "       [ 0.28429931,  1.        ],\n",
       "       [ 0.99030795,  1.        ],\n",
       "       [ 0.20709392,  1.        ],\n",
       "       [ 1.53579831,  1.        ],\n",
       "       [-0.21214512,  1.        ],\n",
       "       [ 0.16581927,  1.        ],\n",
       "       [ 0.36352597,  1.        ],\n",
       "       [ 1.73655528,  1.        ],\n",
       "       [ 1.90658281,  1.        ],\n",
       "       [ 0.11829251,  1.        ],\n",
       "       [ 0.89262519,  1.        ],\n",
       "       [-0.18765672,  1.        ],\n",
       "       [ 0.96898299,  1.        ],\n",
       "       [-1.0613922 ,  1.        ],\n",
       "       [-0.25264973,  1.        ],\n",
       "       [-1.88700369,  1.        ],\n",
       "       [-0.1531467 ,  1.        ],\n",
       "       [-1.41349823,  1.        ],\n",
       "       [-0.21830492,  1.        ],\n",
       "       [-0.51693454,  1.        ],\n",
       "       [-1.54936372,  1.        ],\n",
       "       [ 0.29591288,  1.        ],\n",
       "       [ 0.19976032,  1.        ],\n",
       "       [-1.9383795 ,  1.        ],\n",
       "       [ 0.49025057,  1.        ],\n",
       "       [ 0.56601636,  1.        ],\n",
       "       [ 0.68968698,  1.        ],\n",
       "       [-0.49762828,  1.        ],\n",
       "       [-0.74566352,  1.        ],\n",
       "       [-0.18439099,  1.        ],\n",
       "       [-0.59415067,  1.        ],\n",
       "       [ 0.57846248,  1.        ],\n",
       "       [ 0.14395633,  1.        ],\n",
       "       [ 0.80089598,  1.        ],\n",
       "       [ 1.21653609,  1.        ],\n",
       "       [-1.09103686,  1.        ],\n",
       "       [ 0.66012744,  1.        ],\n",
       "       [ 1.52144516,  1.        ],\n",
       "       [-0.72264322,  1.        ],\n",
       "       [-0.09427461,  1.        ],\n",
       "       [-0.39053953,  1.        ],\n",
       "       [ 1.32867402,  1.        ],\n",
       "       [-0.00493336,  1.        ]])"
      ]
     },
     "execution_count": 19,
     "metadata": {},
     "output_type": "execute_result"
    }
   ],
   "source": [
    "X"
   ]
  },
  {
   "cell_type": "markdown",
   "metadata": {},
   "source": [
    "### GESTION DU VECTEUR TETA"
   ]
  },
  {
   "cell_type": "code",
   "execution_count": 20,
   "metadata": {},
   "outputs": [
    {
     "data": {
      "text/plain": [
       "(2, 1)"
      ]
     },
     "execution_count": 20,
     "metadata": {},
     "output_type": "execute_result"
    }
   ],
   "source": [
    "# teta non connu, on doit initilaiser téta avec des paramètres aléatoires\n",
    "theta = np.random.randn(2, 1)\n",
    "theta.shape"
   ]
  },
  {
   "cell_type": "code",
   "execution_count": 22,
   "metadata": {},
   "outputs": [
    {
     "data": {
      "text/plain": [
       "array([[-0.80183611],\n",
       "       [ 0.99117709]])"
      ]
     },
     "execution_count": 22,
     "metadata": {},
     "output_type": "execute_result"
    }
   ],
   "source": [
    "theta # initialisé aléatoirement"
   ]
  },
  {
   "cell_type": "markdown",
   "metadata": {},
   "source": [
    "## 2. MODELE"
   ]
  },
  {
   "cell_type": "code",
   "execution_count": 23,
   "metadata": {},
   "outputs": [],
   "source": [
    "# modèle linéaire ==> f(x) =X*theta\n",
    "def model(X,theta):\n",
    "    return X.dot(theta)"
   ]
  },
  {
   "cell_type": "code",
   "execution_count": 25,
   "metadata": {},
   "outputs": [
    {
     "data": {
      "text/plain": [
       "array([[ 0.35272449],\n",
       "       [ 1.49381528],\n",
       "       [ 2.44592595],\n",
       "       [ 2.07714426],\n",
       "       [ 0.98010283],\n",
       "       [ 0.89932082],\n",
       "       [ 1.94912222],\n",
       "       [ 1.87646067],\n",
       "       [ 0.55232928],\n",
       "       [ 0.53315204],\n",
       "       [ 0.31931842],\n",
       "       [ 1.36015018],\n",
       "       [ 2.70773886],\n",
       "       [ 2.44176739],\n",
       "       [ 0.85832416],\n",
       "       [ 1.24956829],\n",
       "       [ 1.30234295],\n",
       "       [ 1.89521692],\n",
       "       [ 0.5655762 ],\n",
       "       [ 1.70094096],\n",
       "       [ 0.81173741],\n",
       "       [ 0.42993685],\n",
       "       [-0.11689311],\n",
       "       [ 1.53802279],\n",
       "       [-0.3997697 ],\n",
       "       [ 2.50563057],\n",
       "       [-0.08187774],\n",
       "       [ 1.08945684],\n",
       "       [ 0.52822459],\n",
       "       [ 1.09019831],\n",
       "       [ 1.24145069],\n",
       "       [ 1.17624332],\n",
       "       [ 1.06247185],\n",
       "       [ 0.2015495 ],\n",
       "       [ 0.72515335],\n",
       "       [ 2.67954699],\n",
       "       [ 0.03529734],\n",
       "       [ 0.34950576],\n",
       "       [ 1.36962575],\n",
       "       [ 1.07859101],\n",
       "       [ 1.93614078],\n",
       "       [-0.40207522],\n",
       "       [-0.30610955],\n",
       "       [ 2.01736885],\n",
       "       [ 1.9266109 ],\n",
       "       [ 2.03391467],\n",
       "       [ 0.68183204],\n",
       "       [ 1.11807926],\n",
       "       [ 0.11360409],\n",
       "       [ 0.89321517],\n",
       "       [ 1.5020412 ],\n",
       "       [ 1.99739136],\n",
       "       [ 2.26117048],\n",
       "       [ 2.10374796],\n",
       "       [ 2.05990374],\n",
       "       [ 1.22865586],\n",
       "       [ 1.69941817],\n",
       "       [ 0.76321563],\n",
       "       [ 0.19711241],\n",
       "       [ 0.8251217 ],\n",
       "       [-0.24028145],\n",
       "       [ 1.1612827 ],\n",
       "       [ 0.85821721],\n",
       "       [ 0.69968883],\n",
       "       [-0.40125564],\n",
       "       [-0.53758986],\n",
       "       [ 0.89632588],\n",
       "       [ 0.27543797],\n",
       "       [ 1.14164702],\n",
       "       [ 0.21421153],\n",
       "       [ 1.84223967],\n",
       "       [ 1.19376076],\n",
       "       [ 2.50424478],\n",
       "       [ 1.11397564],\n",
       "       [ 2.124571  ],\n",
       "       [ 1.16622185],\n",
       "       [ 1.40567386],\n",
       "       [ 2.23351286],\n",
       "       [ 0.75390346],\n",
       "       [ 0.83100205],\n",
       "       [ 2.54543976],\n",
       "       [ 0.59807648],\n",
       "       [ 0.53732473],\n",
       "       [ 0.43816116],\n",
       "       [ 1.39019341],\n",
       "       [ 1.58907702],\n",
       "       [ 1.13902844],\n",
       "       [ 1.46758855],\n",
       "       [ 0.52734498],\n",
       "       [ 0.8757477 ],\n",
       "       [ 0.34898977],\n",
       "       [ 0.01571452],\n",
       "       [ 1.86600984],\n",
       "       [ 0.46186307],\n",
       "       [-0.22877258],\n",
       "       [ 1.57061851],\n",
       "       [ 1.06676988],\n",
       "       [ 1.30432578],\n",
       "       [-0.07420172],\n",
       "       [ 0.99513283]])"
      ]
     },
     "execution_count": 25,
     "metadata": {},
     "output_type": "execute_result"
    }
   ],
   "source": [
    "#  le modèle est disponible, on peut l'utiliser\n",
    "model(X, theta)"
   ]
  },
  {
   "cell_type": "code",
   "execution_count": 27,
   "metadata": {},
   "outputs": [
    {
     "data": {
      "image/png": "[encoded data removed]",
      "text/plain": [
       "<Figure size 432x288 with 1 Axes>"
      ]
     },
     "metadata": {
      "needs_background": "light"
     },
     "output_type": "display_data"
    }
   ],
   "source": [
    "# afficher avec matplotlib les résultats de notre model par rapport au dataset\n",
    "plt.plot(x, model(X, theta))\n",
    "plt.show()"
   ]
  },
  {
   "cell_type": "code",
   "execution_count": 29,
   "metadata": {},
   "outputs": [
    {
     "data": {
      "image/png": "[encoded data removed]",
      "text/plain": [
       "<Figure size 432x288 with 1 Axes>"
      ]
     },
     "metadata": {
      "needs_background": "light"
     },
     "output_type": "display_data"
    }
   ],
   "source": [
    "# en comparaison avec le dataset\n",
    "plt.scatter(x, y)\n",
    "plt.plot(x, model(X, theta), c='r')\n",
    "plt.show() #pas très bon modèle"
   ]
  },
  {
   "cell_type": "markdown",
   "metadata": {},
   "source": [
    "## 3. FONCTION COUT"
   ]
  },
  {
   "cell_type": "code",
   "execution_count": 30,
   "metadata": {},
   "outputs": [],
   "source": [
    "#  erreur quadratique moyenne\n",
    "def fonction_cout(X, y, theta):\n",
    "    m=len(y)\n",
    "    return 1/(2*m) * np.sum((model(X, theta)-y)**2)"
   ]
  },
  {
   "cell_type": "code",
   "execution_count": 31,
   "metadata": {},
   "outputs": [
    {
     "data": {
      "text/plain": [
       "1285.6344875583652"
      ]
     },
     "execution_count": 31,
     "metadata": {},
     "output_type": "execute_result"
    }
   ],
   "source": [
    "fonction_cout(X, y, theta) #fort coût car on veut qu'il tende vers 0"
   ]
  },
  {
   "cell_type": "markdown",
   "metadata": {},
   "source": [
    "## DESCENTE DE GRADIENT"
   ]
  },
  {
   "cell_type": "markdown",
   "metadata": {},
   "source": [
    "### GESTION DU GRADIENT"
   ]
  },
  {
   "cell_type": "code",
   "execution_count": 40,
   "metadata": {},
   "outputs": [],
   "source": [
    "# fonction pour calculer le gradient\n",
    "def gradient(X, y, theta):\n",
    "    m = len(y)\n",
    "    return 1/m * X.T.dot(model(X,theta) - y)"
   ]
  },
  {
   "cell_type": "markdown",
   "metadata": {},
   "source": [
    "### GESTION DE LA DESCENTE DE GRADIENT"
   ]
  },
  {
   "cell_type": "code",
   "execution_count": 41,
   "metadata": {},
   "outputs": [],
   "source": [
    "# fonction de la descente de gradient itérative\n",
    "def gradient_descente(X, y, theta, learning_rate, n_iterations):\n",
    "    for i in range(0, n_iterations):\n",
    "        theta = theta - learning_rate * gradient(X, y, theta) \n",
    "    return theta"
   ]
  },
  {
   "cell_type": "markdown",
   "metadata": {},
   "source": [
    "## 4. ENTRAINEMENT DU MODELE"
   ]
  },
  {
   "cell_type": "code",
   "execution_count": 42,
   "metadata": {},
   "outputs": [],
   "source": [
    "theta_final = gradient_descente(X, y, theta, learning_rate=0.001, n_iterations=1000)"
   ]
  },
  {
   "cell_type": "code",
   "execution_count": 43,
   "metadata": {},
   "outputs": [
    {
     "data": {
      "text/plain": [
       "array([[30.33971749],\n",
       "       [-1.70484847]])"
      ]
     },
     "execution_count": 43,
     "metadata": {},
     "output_type": "execute_result"
    }
   ],
   "source": [
    "theta_final"
   ]
  },
  {
   "cell_type": "code",
   "execution_count": 46,
   "metadata": {},
   "outputs": [
    {
     "data": {
      "image/png": "[encoded data removed]",
      "text/plain": [
       "<Figure size 432x288 with 1 Axes>"
      ]
     },
     "metadata": {
      "needs_background": "light"
     },
     "output_type": "display_data"
    }
   ],
   "source": [
    "# est-ce que ce vecteur paramètre nous donne une bonne prédictions?\n",
    "predictions = model(X, theta_final)\n",
    "plt.scatter(x, y)\n",
    "plt.plot(x, predictions, c='r')\n",
    "plt.show()\n",
    "# un peu mieux mais pas suffisant, l'apprentissage n'est pas terminé"
   ]
  },
  {
   "cell_type": "code",
   "execution_count": 47,
   "metadata": {},
   "outputs": [],
   "source": [
    "# faire continuer l'apprentissage \n",
    "#  soit en refait des itérations\n",
    "# soit on joue sur le learning rate .. .on fait de trop petit pas ==> 0.01."
   ]
  },
  {
   "cell_type": "code",
   "execution_count": 48,
   "metadata": {},
   "outputs": [],
   "source": [
    "theta_final_2 = gradient_descente(X, y, theta, learning_rate=0.01, n_iterations=1000)"
   ]
  },
  {
   "cell_type": "code",
   "execution_count": 49,
   "metadata": {},
   "outputs": [
    {
     "data": {
      "text/plain": [
       "array([[48.75364089],\n",
       "       [-0.35555047]])"
      ]
     },
     "execution_count": 49,
     "metadata": {},
     "output_type": "execute_result"
    }
   ],
   "source": [
    "theta_final_2"
   ]
  },
  {
   "cell_type": "code",
   "execution_count": 50,
   "metadata": {},
   "outputs": [
    {
     "data": {
      "image/png": "[encoded data removed]",
      "text/plain": [
       "<Figure size 432x288 with 1 Axes>"
      ]
     },
     "metadata": {
      "needs_background": "light"
     },
     "output_type": "display_data"
    }
   ],
   "source": [
    "# est-ce que ce vecteur paramètre nous donne une bonne prédictions?\n",
    "predictions = model(X, theta_final_2)\n",
    "plt.scatter(x, y)\n",
    "plt.plot(x, predictions, c='r')\n",
    "plt.show()\n",
    "# oui bien meilleur résultat en réentrainant le modèle"
   ]
  },
  {
   "cell_type": "markdown",
   "metadata": {},
   "source": [
    "## 5. COURBE D'APPRENTISSAGE"
   ]
  },
  {
   "cell_type": "code",
   "execution_count": 52,
   "metadata": {},
   "outputs": [],
   "source": [
    "# comment tracer la minimisation de notre fonction coût avec le nombre d'itérations?\n",
    "# comment voir si la machine réussi à bien apprendre?\n",
    "# en modifiant la descente de gradient\n",
    "def gradient_descente_bis(X, y, theta, learning_rate, n_iterations):\n",
    "    # tableau rempli de zéro de dimension le nbre d'itérations\n",
    "    cost_history= np.zeros(n_iterations)\n",
    "    for i in range(0, n_iterations):\n",
    "        theta = theta - learning_rate * gradient(X, y, theta) \n",
    "        # on sauvegarde le coût pour chaque itération\n",
    "        cost_history[i] = fonction_cout(X, y, theta)\n",
    "    return theta, cost_history"
   ]
  },
  {
   "cell_type": "code",
   "execution_count": 56,
   "metadata": {},
   "outputs": [],
   "source": [
    "theta_final_2, cost_history = gradient_descente_bis(X, y, theta,\n",
    "                                                    learning_rate=0.01, n_iterations=1000)"
   ]
  },
  {
   "cell_type": "code",
   "execution_count": 58,
   "metadata": {},
   "outputs": [
    {
     "data": {
      "image/png": "[encoded data removed]",
      "text/plain": [
       "<Figure size 432x288 with 1 Axes>"
      ]
     },
     "metadata": {
      "needs_background": "light"
     },
     "output_type": "display_data"
    }
   ],
   "source": [
    "# tracer la progression de la fonction cout en fonction de l'itération\n",
    "plt.plot(range(1000), cost_history)\n",
    "plt.show()\n",
    "# on peut voir que passer 400 itérations la machine ne progresse plus"
   ]
  },
  {
   "cell_type": "markdown",
   "metadata": {},
   "source": [
    "## 6 COEFFICIENT DE DETERMINATION"
   ]
  },
  {
   "cell_type": "code",
   "execution_count": 59,
   "metadata": {},
   "outputs": [],
   "source": [
    "# comment évaluer la performance de notre modèle en utilisant le coefficient de détermination\n",
    "# coef de détermination = R au carré - méthode des moindes carrés\n",
    "def coefficient_determination(y, predictions):\n",
    "    u = ((y - predictions)**2).sum()\n",
    "    v = ((y - y.mean())**2).sum()\n",
    "    return 1 - u/v"
   ]
  },
  {
   "cell_type": "code",
   "execution_count": 60,
   "metadata": {},
   "outputs": [
    {
     "data": {
      "text/plain": [
       "0.9509735560742366"
      ]
     },
     "execution_count": 60,
     "metadata": {},
     "output_type": "execute_result"
    }
   ],
   "source": [
    "#  calcul pour y et vecteur prédiction\n",
    "coefficient_determination(y, predictions)\n",
    "# 0.95 proche de 1 ==> OK maispeu faire mieux"
   ]
  },
  {
   "cell_type": "code",
   "execution_count": null,
   "metadata": {},
   "outputs": [],
   "source": []
  }
 ],
 "metadata": {
  "kernelspec": {
   "display_name": "Python 3",
   "language": "python",
   "name": "python3"
  },
  "language_info": {
   "codemirror_mode": {
    "name": "ipython",
    "version": 3
   },
   "file_extension": ".py",
   "mimetype": "text/x-python",
   "name": "python",
   "nbconvert_exporter": "python",
   "pygments_lexer": "ipython3",
   "version": "3.8.5"
  }
 },
 "nbformat": 4,
 "nbformat_minor": 4
}
