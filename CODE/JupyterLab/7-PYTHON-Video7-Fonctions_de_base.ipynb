{
 "cells": [
  {
   "cell_type": "markdown",
   "metadata": {},
   "source": [
    "## Les fonctions de base built-in Python"
   ]
  },
  {
   "cell_type": "markdown",
   "metadata": {},
   "source": [
    "### Fonction : abs()"
   ]
  },
  {
   "cell_type": "code",
   "execution_count": 1,
   "metadata": {},
   "outputs": [
    {
     "name": "stdout",
     "output_type": "stream",
     "text": [
      "3\n"
     ]
    }
   ],
   "source": [
    "# fonction abs() - Valeur absloue\n",
    "x = -3 \n",
    "print(abs(x))"
   ]
  },
  {
   "cell_type": "markdown",
   "metadata": {},
   "source": [
    "### Fonction : round()"
   ]
  },
  {
   "cell_type": "code",
   "execution_count": 2,
   "metadata": {},
   "outputs": [
    {
     "name": "stdout",
     "output_type": "stream",
     "text": [
      "3\n"
     ]
    }
   ],
   "source": [
    "# fonction : round()- Arrondir un nombre décimal\n",
    "x = 3.1456\n",
    "print(round(x))"
   ]
  },
  {
   "cell_type": "markdown",
   "metadata": {},
   "source": [
    "### Fonction  sur les LISTES: "
   ]
  },
  {
   "cell_type": "code",
   "execution_count": 3,
   "metadata": {},
   "outputs": [],
   "source": [
    "liste_1 = [0, 23, 14, -19]"
   ]
  },
  {
   "cell_type": "markdown",
   "metadata": {},
   "source": [
    "### Fonction : max()"
   ]
  },
  {
   "cell_type": "code",
   "execution_count": 4,
   "metadata": {},
   "outputs": [
    {
     "data": {
      "text/plain": [
       "23"
      ]
     },
     "execution_count": 4,
     "metadata": {},
     "output_type": "execute_result"
    }
   ],
   "source": [
    "# fonction max() : retourne la valeur maximum contenue dans la liste\n",
    "max(liste_1)"
   ]
  },
  {
   "cell_type": "markdown",
   "metadata": {},
   "source": [
    "### Fonction : min()"
   ]
  },
  {
   "cell_type": "code",
   "execution_count": 5,
   "metadata": {},
   "outputs": [
    {
     "data": {
      "text/plain": [
       "-19"
      ]
     },
     "execution_count": 5,
     "metadata": {},
     "output_type": "execute_result"
    }
   ],
   "source": [
    "# fonction min() : retourne valeur minimum contenue dans la liste\n",
    "min(liste_1)"
   ]
  },
  {
   "cell_type": "markdown",
   "metadata": {},
   "source": [
    "### Fonction : len()"
   ]
  },
  {
   "cell_type": "code",
   "execution_count": 6,
   "metadata": {},
   "outputs": [
    {
     "data": {
      "text/plain": [
       "4"
      ]
     },
     "execution_count": 6,
     "metadata": {},
     "output_type": "execute_result"
    }
   ],
   "source": [
    "# fonction len() : retourne la taille = le nombre d'éléments dans la liste\n",
    "len(liste_1)"
   ]
  },
  {
   "cell_type": "markdown",
   "metadata": {},
   "source": [
    "### Fonction : sum()"
   ]
  },
  {
   "cell_type": "code",
   "execution_count": 7,
   "metadata": {},
   "outputs": [
    {
     "data": {
      "text/plain": [
       "18"
      ]
     },
     "execution_count": 7,
     "metadata": {},
     "output_type": "execute_result"
    }
   ],
   "source": [
    "# fonction sum() : retourne somme de tous les éléments de la liste (si int)\n",
    "sum(liste_1)"
   ]
  },
  {
   "cell_type": "markdown",
   "metadata": {},
   "source": [
    "### Fonction : all()"
   ]
  },
  {
   "cell_type": "code",
   "execution_count": 8,
   "metadata": {},
   "outputs": [
    {
     "data": {
      "text/plain": [
       "False"
      ]
     },
     "execution_count": 8,
     "metadata": {},
     "output_type": "execute_result"
    }
   ],
   "source": [
    "# fonction all():retourne True quand tous les éléments de la liste sont True\n",
    "liste_2 = [True, True, False]\n",
    "all(liste_2)"
   ]
  },
  {
   "cell_type": "markdown",
   "metadata": {},
   "source": [
    "### Fonction : any()"
   ]
  },
  {
   "cell_type": "code",
   "execution_count": 9,
   "metadata": {},
   "outputs": [
    {
     "data": {
      "text/plain": [
       "True"
      ]
     },
     "execution_count": 9,
     "metadata": {},
     "output_type": "execute_result"
    }
   ],
   "source": [
    "# fonction any() : retourne True quand tous les éléments de la liste sont True\n",
    "any(liste_2)"
   ]
  },
  {
   "cell_type": "code",
   "execution_count": 10,
   "metadata": {},
   "outputs": [
    {
     "data": {
      "text/plain": [
       "False"
      ]
     },
     "execution_count": 10,
     "metadata": {},
     "output_type": "execute_result"
    }
   ],
   "source": [
    "# all() et any() peuvent être utilisées sur des int : 0=False et toutes \n",
    "# les autres valeurs que 0 sont True\n",
    "all(liste_1)"
   ]
  },
  {
   "cell_type": "markdown",
   "metadata": {},
   "source": [
    "## Fonctions de conversion de types"
   ]
  },
  {
   "cell_type": "code",
   "execution_count": 11,
   "metadata": {},
   "outputs": [],
   "source": [
    "x = 10"
   ]
  },
  {
   "cell_type": "markdown",
   "metadata": {},
   "source": [
    "### Fonction : type()"
   ]
  },
  {
   "cell_type": "code",
   "execution_count": 12,
   "metadata": {},
   "outputs": [
    {
     "data": {
      "text/plain": [
       "int"
      ]
     },
     "execution_count": 12,
     "metadata": {},
     "output_type": "execute_result"
    }
   ],
   "source": [
    "# fonction type() : retourne le type de la variable\n",
    "type(x)"
   ]
  },
  {
   "cell_type": "markdown",
   "metadata": {},
   "source": [
    "### Fonction : str()"
   ]
  },
  {
   "cell_type": "code",
   "execution_count": 13,
   "metadata": {},
   "outputs": [],
   "source": [
    "# fonction str() : transforme int en str ==> entreguillemets\n",
    "y = str(x)"
   ]
  },
  {
   "cell_type": "code",
   "execution_count": 14,
   "metadata": {},
   "outputs": [
    {
     "data": {
      "text/plain": [
       "str"
      ]
     },
     "execution_count": 14,
     "metadata": {},
     "output_type": "execute_result"
    }
   ],
   "source": [
    "type(y)"
   ]
  },
  {
   "cell_type": "markdown",
   "metadata": {},
   "source": [
    "### Fonction : int()"
   ]
  },
  {
   "cell_type": "code",
   "execution_count": 15,
   "metadata": {},
   "outputs": [
    {
     "name": "stdout",
     "output_type": "stream",
     "text": [
      "<class 'int'>\n",
      "20\n"
     ]
    }
   ],
   "source": [
    "# fonction str() : transforme str en int... si le str est un int\n",
    "y='20'\n",
    "print(type(int(y)))\n",
    "print(y)"
   ]
  },
  {
   "cell_type": "markdown",
   "metadata": {},
   "source": [
    "### Fonction : float()"
   ]
  },
  {
   "cell_type": "code",
   "execution_count": 16,
   "metadata": {},
   "outputs": [
    {
     "name": "stdout",
     "output_type": "stream",
     "text": [
      "<class 'float'>\n",
      "11\n"
     ]
    }
   ],
   "source": [
    "# fonction float() : transforme int  entier en float décimale\n",
    "x=11\n",
    "print(type(float(x)))\n",
    "print(x)"
   ]
  },
  {
   "cell_type": "code",
   "execution_count": 17,
   "metadata": {},
   "outputs": [],
   "source": [
    "liste_1 = [0, 61, 63, 243]"
   ]
  },
  {
   "cell_type": "markdown",
   "metadata": {},
   "source": [
    "### Fonction : tuple()"
   ]
  },
  {
   "cell_type": "code",
   "execution_count": 18,
   "metadata": {},
   "outputs": [],
   "source": [
    "# fonction tuple() : transforme liste [] en tuple ()\n",
    "tuple_1 = tuple(liste_1)"
   ]
  },
  {
   "cell_type": "markdown",
   "metadata": {},
   "source": [
    "### Fonction : liste()"
   ]
  },
  {
   "cell_type": "code",
   "execution_count": 19,
   "metadata": {},
   "outputs": [
    {
     "data": {
      "text/plain": [
       "[0, 61, 63, 243]"
      ]
     },
     "execution_count": 19,
     "metadata": {},
     "output_type": "execute_result"
    }
   ],
   "source": [
    "# fonction list() : \n",
    "# 1. transforme  tuple () en liste [] \n",
    "list(tuple_1)"
   ]
  },
  {
   "cell_type": "code",
   "execution_count": 20,
   "metadata": {},
   "outputs": [
    {
     "data": {
      "text/plain": [
       "['bananes', 'pommes', 'poires']"
      ]
     },
     "execution_count": 20,
     "metadata": {},
     "output_type": "execute_result"
    }
   ],
   "source": [
    "# fonction list() : \n",
    "# 2. transforme  les clés du dictionnaire {} en liste [] \n",
    "inventaire = {\n",
    "    \"bananes\" : 5000,\n",
    "    \"pommes\" : 2094,\n",
    "    \"poires\" : 412809\n",
    "}\n",
    "list(inventaire.keys())"
   ]
  },
  {
   "cell_type": "markdown",
   "metadata": {},
   "source": [
    "### Fonction : bin()"
   ]
  },
  {
   "cell_type": "code",
   "execution_count": 21,
   "metadata": {},
   "outputs": [
    {
     "data": {
      "text/plain": [
       "'0b1111'"
      ]
     },
     "execution_count": 21,
     "metadata": {},
     "output_type": "execute_result"
    }
   ],
   "source": [
    "# fonction bin() : transforme un int en binaire\n",
    "bin(15) # 1111"
   ]
  },
  {
   "cell_type": "markdown",
   "metadata": {},
   "source": [
    "### Fonction : bytes()"
   ]
  },
  {
   "cell_type": "code",
   "execution_count": 22,
   "metadata": {},
   "outputs": [
    {
     "data": {
      "text/plain": [
       "b'\\x00\\x00\\x00\\x00\\x00\\x00\\x00\\x00\\x00\\x00\\x00\\x00\\x00\\x00\\x00'"
      ]
     },
     "execution_count": 22,
     "metadata": {},
     "output_type": "execute_result"
    }
   ],
   "source": [
    "# fonction bytes() : transforme un int en bytes\n",
    "bytes(15)"
   ]
  },
  {
   "cell_type": "markdown",
   "metadata": {},
   "source": [
    "### Fonction : hex()"
   ]
  },
  {
   "cell_type": "code",
   "execution_count": 23,
   "metadata": {},
   "outputs": [
    {
     "data": {
      "text/plain": [
       "'0xf'"
      ]
     },
     "execution_count": 23,
     "metadata": {},
     "output_type": "execute_result"
    }
   ],
   "source": [
    "# fonction hex() : transforme un int en hexadécimales\n",
    "hex(15)  # f"
   ]
  },
  {
   "cell_type": "markdown",
   "metadata": {},
   "source": [
    "### Fonction : oct()"
   ]
  },
  {
   "cell_type": "code",
   "execution_count": 24,
   "metadata": {},
   "outputs": [
    {
     "data": {
      "text/plain": [
       "'0o17'"
      ]
     },
     "execution_count": 24,
     "metadata": {},
     "output_type": "execute_result"
    }
   ],
   "source": [
    "# fonction hex() : transforme un int en octets\n",
    "oct(15) # 17"
   ]
  },
  {
   "cell_type": "markdown",
   "metadata": {},
   "source": [
    "### Fonction : input()"
   ]
  },
  {
   "cell_type": "code",
   "execution_count": 25,
   "metadata": {},
   "outputs": [
    {
     "name": "stdout",
     "output_type": "stream",
     "text": [
      "bonjour\n",
      "bonjour\n"
     ]
    }
   ],
   "source": [
    "# fonction input() : permet à l'utilisateur de saisir du texte\n",
    "# la fonction retourne la saisie de l'utilisateur en str\n",
    "x = input()\n",
    "print(x)"
   ]
  },
  {
   "cell_type": "code",
   "execution_count": 26,
   "metadata": {},
   "outputs": [
    {
     "name": "stdout",
     "output_type": "stream",
     "text": [
      "Entrez un nombre : 15\n"
     ]
    }
   ],
   "source": [
    "# on peut entrer un message pour l'utilisateur\n",
    "x = int(input('Entrez un nombre : '))"
   ]
  },
  {
   "cell_type": "code",
   "execution_count": 27,
   "metadata": {},
   "outputs": [
    {
     "data": {
      "text/plain": [
       "int"
      ]
     },
     "execution_count": 27,
     "metadata": {},
     "output_type": "execute_result"
    }
   ],
   "source": [
    "type(x)"
   ]
  },
  {
   "cell_type": "markdown",
   "metadata": {},
   "source": [
    "### Fonction : format()"
   ]
  },
  {
   "cell_type": "code",
   "execution_count": 28,
   "metadata": {},
   "outputs": [
    {
     "name": "stdout",
     "output_type": "stream",
     "text": [
      "La température est de 25 degrés celsius à Paris\n",
      "La température est de 25 degrés celsius à Paris\n"
     ]
    }
   ],
   "source": [
    "# fonction format() : peret de personnaliser les chaines de caractères\n",
    "x = 25\n",
    "ville = 'Paris'\n",
    "\n",
    "message = 'La température est de {} degrés celsius à {}'.format(x, ville)\n",
    "print(message)\n",
    "# ou\n",
    "message_2 = f'La température est de {x} degrés celsius à {ville}'\n",
    "print(message_2)"
   ]
  },
  {
   "cell_type": "code",
   "execution_count": 29,
   "metadata": {},
   "outputs": [
    {
     "name": "stdout",
     "output_type": "stream",
     "text": [
      "-- PARAMETRES ---------------------------------------------------\n",
      "{'W1': array([[ 1.253689  , -0.33327765, -1.93226397, -1.65287525],\n",
      "       [-1.49084256, -1.24660473, -0.32210011, -1.47888776]]), 'b1': array([[0.],\n",
      "       [0.]]), 'W2': array([[ 0.06698128, -1.62850581],\n",
      "       [ 0.0990599 ,  0.66443481]]), 'b2': array([[0.],\n",
      "       [0.]])}\n",
      "-- METHODE 1 ----------------------------------------------------\n",
      "Couche : 1\n",
      "[[ 1.253689   -0.33327765 -1.93226397 -1.65287525]\n",
      " [-1.49084256 -1.24660473 -0.32210011 -1.47888776]]\n",
      "Couche : 2\n",
      "[[ 0.06698128 -1.62850581]\n",
      " [ 0.0990599   0.66443481]]\n",
      "-- METHODE 2 ----------------------------------------------------\n",
      "Couche : 1\n",
      "[[ 1.253689   -0.33327765 -1.93226397 -1.65287525]\n",
      " [-1.49084256 -1.24660473 -0.32210011 -1.47888776]]\n",
      "Couche : 2\n",
      "[[ 0.06698128 -1.62850581]\n",
      " [ 0.0990599   0.66443481]]\n"
     ]
    }
   ],
   "source": [
    "# format() est utilisée dans datascience, pour accéder \n",
    "# à des clés d'un dico dans une boucle for\n",
    "\n",
    "# exemples\n",
    "\n",
    "import numpy as np\n",
    "\n",
    "parametres = {\n",
    "    \"W1\" : np.random.randn(2,4),\n",
    "    \"b1\" : np.zeros((2,1)),\n",
    "    \"W2\" : np.random.randn(2,2),\n",
    "    \"b2\" : np.zeros((2,1))\n",
    "}\n",
    "\n",
    "print('-- PARAMETRES ---------------------------------------------------')\n",
    "print(parametres)\n",
    "\n",
    "print('-- METHODE 1 ----------------------------------------------------')\n",
    "\n",
    "for i in range(1,3):\n",
    "    print(\"Couche :\", i)\n",
    "    print(parametres[\"W{}\".format(i)])\n",
    "    \n",
    "# ou\n",
    "\n",
    "print('-- METHODE 2 ----------------------------------------------------')\n",
    "\n",
    "for i in range(1,3):\n",
    "    print(\"Couche :\", i)\n",
    "    print(parametres[\"W\"+str(i)])\n",
    "\n",
    "    "
   ]
  },
  {
   "cell_type": "markdown",
   "metadata": {},
   "source": [
    "### Fonction : open()"
   ]
  },
  {
   "cell_type": "code",
   "execution_count": 30,
   "metadata": {},
   "outputs": [],
   "source": [
    "# fonction open() : permet d'ouvrir des fichiers, de créer des fichiers\n",
    "# et de les enregistrer sur l'ordinateur\n",
    "# on doit passer en paramètres un fichier, un mode w : écriture\n",
    "f =open('fichier.txt','w')"
   ]
  },
  {
   "cell_type": "code",
   "execution_count": 31,
   "metadata": {},
   "outputs": [
    {
     "data": {
      "text/plain": [
       "7"
      ]
     },
     "execution_count": 31,
     "metadata": {},
     "output_type": "execute_result"
    }
   ],
   "source": [
    "# Ecrire dans le fichier\n",
    "f.write(\"bonjour\")"
   ]
  },
  {
   "cell_type": "code",
   "execution_count": 32,
   "metadata": {},
   "outputs": [],
   "source": [
    "#  une fois l'action terminée sur le fichier ==> close\n",
    "f.close()"
   ]
  },
  {
   "cell_type": "code",
   "execution_count": 33,
   "metadata": {},
   "outputs": [],
   "source": [
    "# dans le répertoire de travail, un fichier 'ficier.txt\" a été créé\n",
    "# si on l'ouvre, il contient 'bonjour'"
   ]
  },
  {
   "cell_type": "code",
   "execution_count": 34,
   "metadata": {},
   "outputs": [
    {
     "name": "stdout",
     "output_type": "stream",
     "text": [
      "bonjour\n"
     ]
    }
   ],
   "source": [
    "# Pour lire le fichier : open en mode r (read)\n",
    "f = open('fichier.txt','r')\n",
    "print(f.read())\n",
    "f.close()"
   ]
  },
  {
   "cell_type": "code",
   "execution_count": 36,
   "metadata": {},
   "outputs": [
    {
     "name": "stdout",
     "output_type": "stream",
     "text": [
      "bonjour\n"
     ]
    }
   ],
   "source": [
    "# dans la pratique, on utilise plutôt\n",
    "# on fait ce que l'on veut dans ce fichier...\n",
    "# pas la peine de fermer le fichier, python le fait\n",
    "with open('fichier.txt','r') as f:\n",
    "    print(f.read())"
   ]
  },
  {
   "cell_type": "code",
   "execution_count": null,
   "metadata": {},
   "outputs": [],
   "source": [
    "# Ecrire un algo qui écrit dans un fichier text tous les nombres\n",
    "# carrés de 0 à 10 "
   ]
  },
  {
   "cell_type": "code",
   "execution_count": 38,
   "metadata": {},
   "outputs": [],
   "source": [
    "with open('fichier.txt','w') as f:\n",
    "    for i in range(10):\n",
    "        f.write(\"{}^2 = {} \\n\".format(i, i**2))"
   ]
  },
  {
   "cell_type": "code",
   "execution_count": 64,
   "metadata": {},
   "outputs": [
    {
     "name": "stdout",
     "output_type": "stream",
     "text": [
      "['0^2 = 0', '1^2 = 1', '2^2 = 4', '3^2 = 9', '4^2 = 16', '5^2 = 25', '6^2 = 36', '7^2 = 49', '8^2 = 64', '9^2 = 81']\n"
     ]
    }
   ],
   "source": [
    "# Exercice : lire le fichier.txt \n",
    "# et retourner une liste [0^2=0,1^2=2...,92=81]\n",
    "with open('fichier.txt','r') as f:\n",
    "    lignes=  f.readlines()\n",
    "    for i in range(len(lignes)):\n",
    "        lignes[i]= lignes[i].strip()\n",
    "    print(lignes)"
   ]
  },
  {
   "cell_type": "code",
   "execution_count": 66,
   "metadata": {},
   "outputs": [
    {
     "name": "stdout",
     "output_type": "stream",
     "text": [
      "{'0': 0, '1': 1, '2': 4, '3': 9, '4': 16, '5': 25, '6': 36, '7': 49, '8': 64, '9': 81, '10': 100, '11': 121, '12': 144, '13': 169, '14': 196, '15': 225, '16': 256, '17': 289, '18': 324, '19': 361}\n"
     ]
    }
   ],
   "source": [
    "# correction exercice de 0 à 20\n",
    "carres_pairs = {\n",
    "    str(k) : k**2 for k in range(0,20)\n",
    "}\n",
    "print(carres_pairs)"
   ]
  },
  {
   "cell_type": "code",
   "execution_count": null,
   "metadata": {},
   "outputs": [],
   "source": []
  }
 ],
 "metadata": {
  "kernelspec": {
   "display_name": "Python 3",
   "language": "python",
   "name": "python3"
  },
  "language_info": {
   "codemirror_mode": {
    "name": "ipython",
    "version": 3
   },
   "file_extension": ".py",
   "mimetype": "text/x-python",
   "name": "python",
   "nbconvert_exporter": "python",
   "pygments_lexer": "ipython3",
   "version": "3.8.3"
  }
 },
 "nbformat": 4,
 "nbformat_minor": 4
}
