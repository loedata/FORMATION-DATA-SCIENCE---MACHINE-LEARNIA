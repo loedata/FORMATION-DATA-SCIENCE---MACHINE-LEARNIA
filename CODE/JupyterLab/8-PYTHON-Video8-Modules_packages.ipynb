{
 "cells": [
  {
   "cell_type": "markdown",
   "metadata": {},
   "source": [
    "## IMPORT"
   ]
  },
  {
   "cell_type": "code",
   "execution_count": 2,
   "metadata": {},
   "outputs": [],
   "source": [
    "liste=[0,1,12,12,199,18,15,15,15,15,18,91]"
   ]
  },
  {
   "cell_type": "code",
   "execution_count": 3,
   "metadata": {},
   "outputs": [
    {
     "name": "stdout",
     "output_type": "stream",
     "text": [
      "[0, 1, 1, 2, 3, 5, 8, 13, 21, 34]\n"
     ]
    }
   ],
   "source": [
    "# utilisation des fonctions fibonacci et classer de Projet_1\n",
    "\n",
    "import projet_1\n",
    "\n",
    "# clic droit 'Aller à la définition de l'objet\n",
    "liste_fibo = projet_1.fibonacci(50)\n",
    "print(liste_fibo)"
   ]
  },
  {
   "cell_type": "code",
   "execution_count": 4,
   "metadata": {},
   "outputs": [],
   "source": [
    "# nouveau dossier pycache apparait vers projet_1 ==>\n",
    "# python organise les liaisons entre les projets"
   ]
  },
  {
   "cell_type": "code",
   "execution_count": 5,
   "metadata": {},
   "outputs": [
    {
     "name": "stdout",
     "output_type": "stream",
     "text": [
      "[0, 1, 1, 2, 3, 5, 8, 13, 21, 34]\n"
     ]
    }
   ],
   "source": [
    "# on peut donner un surnom au module qu'on veut importer\n",
    "# permet de gagner du temps et écrire de manière plus courte\n",
    "\n",
    "import projet_1 as p1 \n",
    "\n",
    "liste_fibo = p1.fibonacci(50)\n",
    "print(liste_fibo)"
   ]
  },
  {
   "cell_type": "code",
   "execution_count": 6,
   "metadata": {},
   "outputs": [
    {
     "name": "stdout",
     "output_type": "stream",
     "text": [
      "[0, 1, 1, 2, 3, 5, 8, 13, 21, 34]\n"
     ]
    }
   ],
   "source": [
    "# on peut importer seulement certaines classes, fonctions, varaibles\n",
    "# des modules longs on ne veut pas tout importer\n",
    "\n",
    "from projet_1 import fibonacci\n",
    "\n",
    "liste_fibo = fibonacci(50)\n",
    "print(liste_fibo)"
   ]
  },
  {
   "cell_type": "code",
   "execution_count": 7,
   "metadata": {},
   "outputs": [],
   "source": [
    "# pour importer tous ce qui existe dans un module\n",
    "\n",
    "from projet_1 import *\n",
    "# liste = classer(classeur, nombre) #  méthode classer est accessible"
   ]
  },
  {
   "cell_type": "code",
   "execution_count": 8,
   "metadata": {},
   "outputs": [],
   "source": [
    "# Module = un document qui contient du code\n",
    "# Pour mettre de l'ordre dans tous ses modules, on les regroupe en package\n",
    "# ex : mapplotlib pyplot un module de mapplotlib"
   ]
  },
  {
   "cell_type": "markdown",
   "metadata": {},
   "source": [
    "## MODULES"
   ]
  },
  {
   "cell_type": "markdown",
   "metadata": {},
   "source": [
    "### MODULE math"
   ]
  },
  {
   "cell_type": "code",
   "execution_count": 10,
   "metadata": {},
   "outputs": [
    {
     "name": "stdout",
     "output_type": "stream",
     "text": [
      "3.141592653589793\n",
      "-1.0\n",
      "1.0\n",
      "148.4131591025766\n"
     ]
    }
   ],
   "source": [
    "# pour les mathématiques\n",
    "import math\n",
    "\n",
    "print(math.pi)\n",
    "# 3.141592653589793\n",
    "\n",
    "print(math.cos(math.pi))\n",
    "# -1.0\n",
    "\n",
    "print(math.cos(2*math.pi))\n",
    "# 1.0\n",
    "\n",
    "print(math.exp(5))"
   ]
  },
  {
   "cell_type": "markdown",
   "metadata": {},
   "source": [
    "### MODULE random"
   ]
  },
  {
   "cell_type": "code",
   "execution_count": 11,
   "metadata": {},
   "outputs": [
    {
     "name": "stdout",
     "output_type": "stream",
     "text": [
      "199\n",
      "Julie\n",
      "0.8444218515250481\n",
      "8\n",
      "5\n",
      "[33, 65, 62, 51, 38, 61, 45, 74, 27, 64]\n",
      "[36, 17]\n",
      "None\n"
     ]
    }
   ],
   "source": [
    "# Aléatoire: nbre aléatoire, liste aléatoire\n",
    "\n",
    "import random\n",
    "\n",
    "print(random.choice(liste))\n",
    "print(random.choice(['Jean','Anne','Julie']))\n",
    "\n",
    "# seed : aléatoire mais reproductible\n",
    "random.seed(0)\n",
    "# on aura toujours Anne qui sort\n",
    "\n",
    "# aléatoire float : entre 0 et 1 décimal\n",
    "print(random.random())\n",
    "\n",
    "# aléatoire sur nombre entier entre 5 et 10\n",
    "print(random.randint(5,10)) \n",
    "\n",
    "# retourner un integer dans une fourchette de nombre\n",
    "print(random.randrange(100)) \n",
    "\n",
    "# fonction sample() retourne une liste de nombre aléatoire entre 0 et x \n",
    "# exemple :  liste de 10 nombre aléatoire entre 0 et 100\n",
    "print(random.sample(range(100), 10)) \n",
    "\n",
    "# combinaison : ex liste d'une liste d'un nombre aléatoire d'éléments\n",
    "print(random.sample(range(100), random.randrange(10))) \n",
    "\n",
    "# shuffle() : mélange aléatoirement les données d'une structure de données\n",
    "print(random.shuffle(liste))"
   ]
  },
  {
   "cell_type": "code",
   "execution_count": 12,
   "metadata": {},
   "outputs": [],
   "source": [
    "### MODULE statistic"
   ]
  },
  {
   "cell_type": "code",
   "execution_count": 13,
   "metadata": {},
   "outputs": [
    {
     "name": "stdout",
     "output_type": "stream",
     "text": [
      "34.25\n",
      "3240.2045454545455\n"
     ]
    }
   ],
   "source": [
    "# permet de faire des statistiques\n",
    "\n",
    "import statistics\n",
    "\n",
    "# Moyenne des valeurs d'une liste\n",
    "print(statistics.mean(liste))\n",
    "\n",
    "# variance de la liste\n",
    "print(statistics.variance(liste))"
   ]
  },
  {
   "cell_type": "markdown",
   "metadata": {},
   "source": [
    "### MODULE os"
   ]
  },
  {
   "cell_type": "code",
   "execution_count": 15,
   "metadata": {},
   "outputs": [
    {
     "name": "stdout",
     "output_type": "stream",
     "text": [
      "C:\\Users\\PC Maison\\PYTHON_ML\n"
     ]
    }
   ],
   "source": [
    "# Module os (operating system - permet d'intéragir avec le système)\n",
    "\n",
    "import os\n",
    "\n",
    "#  quel est le répertoire courant de travail?\n",
    "print(os.getcwd())"
   ]
  },
  {
   "cell_type": "markdown",
   "metadata": {},
   "source": [
    "### MODULE glob"
   ]
  },
  {
   "cell_type": "code",
   "execution_count": 16,
   "metadata": {},
   "outputs": [
    {
     "name": "stdout",
     "output_type": "stream",
     "text": [
      "['bacteria.png', 'BTC-EUR.csv', 'ETH-EUR.csv', 'fichier.txt', 'figure.jpg', 'iris.csv', 'projet_1.py', 'titanic.xls', 'Video10.ipynb', 'Video11.ipynb', 'Video12.ipynb', 'Video13.ipynb', 'Video14.ipynb', 'Video15.ipynb', 'Video16.ipynb', 'Video17.ipynb', 'video18.ipynb', 'Video19.ipynb', 'Video2-PHYTON-Variables_fonctions.ipynb', 'Video20.ipynb', 'Video21.ipynb', 'Video22.ipynb', 'Video23.ipynb', 'Video3-PHYTON-Algorithmes_Structure_de_controle.ipynb', 'Video4-PHYTON-Structures_donnees_listes_tuples.ipynb', 'Video5-PHYTON-Dictionnaires.ipynb', 'Video6.ipynb', 'Video7.ipynb', 'Video8-PHYTON-Modules_packages.ipynb', '__pycache__']\n",
      "['fichier.txt']\n"
     ]
    }
   ],
   "source": [
    "import glob\n",
    "\n",
    "# glob() : reoutrne une liste de tous les noms des fichiers que l'on a dans le répertoire de rtavail\n",
    "print(glob.glob(\"*\"))\n",
    "\n",
    "# filtrer par type de fichier\n",
    "print(glob.glob(\"*.txt\"))"
   ]
  },
  {
   "cell_type": "code",
   "execution_count": 17,
   "metadata": {},
   "outputs": [
    {
     "name": "stdout",
     "output_type": "stream",
     "text": [
      "0^2 = 0 \n",
      "1^2 = 1 \n",
      "2^2 = 4 \n",
      "3^2 = 9 \n",
      "4^2 = 16 \n",
      "5^2 = 25 \n",
      "6^2 = 36 \n",
      "7^2 = 49 \n",
      "8^2 = 64 \n",
      "9^2 = 81 \n",
      "\n"
     ]
    }
   ],
   "source": [
    "# afficher toutes les données à la chaine\n",
    "\n",
    "filenames = glob.glob(\"*.txt\")\n",
    "\n",
    "for file in filenames:\n",
    "    with open(file,'r') as f:\n",
    "        print(f.read())"
   ]
  },
  {
   "cell_type": "code",
   "execution_count": 19,
   "metadata": {},
   "outputs": [
    {
     "name": "stdout",
     "output_type": "stream",
     "text": [
      "['0^2 = 0 ']\n",
      "['0^2 = 0', '1^2 = 1', '2^2 = 4', '3^2 = 9', '4^2 = 16', '5^2 = 25', '6^2 = 36', '7^2 = 49', '8^2 = 64', '9^2 = 81']\n"
     ]
    }
   ],
   "source": [
    "## EXERCICE VIDEO 8\n",
    "with open('fichier.txt', 'r') as f:\n",
    "    liste = f.readline().splitlines()\n",
    "print(liste)\n",
    "\n",
    "#  ou ist comprehension\n",
    "liste=[line.strip() for line in open('fichier.txt', 'r')]\n",
    "print(liste)"
   ]
  },
  {
   "cell_type": "code",
   "execution_count": null,
   "metadata": {},
   "outputs": [],
   "source": []
  }
 ],
 "metadata": {
  "kernelspec": {
   "display_name": "Python 3",
   "language": "python",
   "name": "python3"
  },
  "language_info": {
   "codemirror_mode": {
    "name": "ipython",
    "version": 3
   },
   "file_extension": ".py",
   "mimetype": "text/x-python",
   "name": "python",
   "nbconvert_exporter": "python",
   "pygments_lexer": "ipython3",
   "version": "3.8.3"
  }
 },
 "nbformat": 4,
 "nbformat_minor": 4
}
