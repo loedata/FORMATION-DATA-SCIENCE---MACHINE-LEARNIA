{
 "cells": [
  {
   "cell_type": "markdown",
   "metadata": {},
   "source": [
    "## REGRESSION LINEAIRE EVOLUTION DU MODELE AVEC LE TEMPS"
   ]
  },
  {
   "cell_type": "code",
   "execution_count": 1,
   "metadata": {},
   "outputs": [],
   "source": [
    "# Chargement de numpy\n",
    "import numpy as np\n",
    "# dataset génération aléatoire avec sklearn.make_regression\n",
    "from sklearn.datasets import make_regression\n",
    "# pour les graphiques\n",
    "import matplotlib.pyplot as plt"
   ]
  },
  {
   "cell_type": "markdown",
   "metadata": {},
   "source": [
    "### 1. DATASET"
   ]
  },
  {
   "cell_type": "code",
   "execution_count": 2,
   "metadata": {},
   "outputs": [],
   "source": [
    "# dataset génération aléatoire avec sklearn.make_regression\n",
    "# avec vecteur Y, matrice X et vecteur teta\n",
    "x, y = make_regression(n_samples=100, n_features=1, noise=10)"
   ]
  },
  {
   "cell_type": "code",
   "execution_count": 3,
   "metadata": {},
   "outputs": [
    {
     "data": {
      "image/png": "[encoded data removed]",
      "text/plain": [
       "<Figure size 432x288 with 1 Axes>"
      ]
     },
     "metadata": {
      "needs_background": "light"
     },
     "output_type": "display_data"
    }
   ],
   "source": [
    "# visualiser y en fonction de x\n",
    "plt.scatter(x, y)\n",
    "plt.show()"
   ]
  },
  {
   "cell_type": "markdown",
   "metadata": {},
   "source": [
    "#### GESTION DU VECTEUR Y"
   ]
  },
  {
   "cell_type": "code",
   "execution_count": 4,
   "metadata": {},
   "outputs": [
    {
     "name": "stdout",
     "output_type": "stream",
     "text": [
      "(100, 1)\n",
      "(100,)\n"
     ]
    }
   ],
   "source": [
    "# Vérification des dimensions de la matrice\n",
    "print(x.shape) # 100 lignes, 1 colonne\n",
    "print(y.shape) # 100 lignes, rien : dimension incomplète ==> la compléter reshape()"
   ]
  },
  {
   "cell_type": "code",
   "execution_count": 5,
   "metadata": {},
   "outputs": [
    {
     "name": "stdout",
     "output_type": "stream",
     "text": [
      "(100, 1)\n"
     ]
    }
   ],
   "source": [
    "y = y.reshape(y.shape[0],1)\n",
    "print(y.shape)"
   ]
  },
  {
   "cell_type": "markdown",
   "metadata": {},
   "source": [
    "#### GESTION DE LA MATRICE X"
   ]
  },
  {
   "cell_type": "code",
   "execution_count": 6,
   "metadata": {},
   "outputs": [
    {
     "data": {
      "text/plain": [
       "(100, 2)"
      ]
     },
     "execution_count": 6,
     "metadata": {},
     "output_type": "execute_result"
    }
   ],
   "source": [
    "# il nous faut une colonne X avec une colonne de biais : hstack\n",
    "X = np.hstack((x, np.ones(x.shape)))\n",
    "X.shape"
   ]
  },
  {
   "cell_type": "code",
   "execution_count": 7,
   "metadata": {},
   "outputs": [
    {
     "data": {
      "text/plain": [
       "array([[-1.00073968e-03,  1.00000000e+00],\n",
       "       [-2.77234956e-01,  1.00000000e+00],\n",
       "       [ 3.95649116e-01,  1.00000000e+00],\n",
       "       [-8.20517094e-01,  1.00000000e+00],\n",
       "       [-1.27622142e+00,  1.00000000e+00],\n",
       "       [ 1.10833068e+00,  1.00000000e+00],\n",
       "       [-4.01121116e-01,  1.00000000e+00],\n",
       "       [ 1.47774362e+00,  1.00000000e+00],\n",
       "       [ 7.55641285e-02,  1.00000000e+00],\n",
       "       [-5.12237477e-01,  1.00000000e+00],\n",
       "       [ 9.06824790e-01,  1.00000000e+00],\n",
       "       [ 2.39242773e-01,  1.00000000e+00],\n",
       "       [ 2.72661725e-01,  1.00000000e+00],\n",
       "       [ 7.38388741e-01,  1.00000000e+00],\n",
       "       [-1.28035097e+00,  1.00000000e+00],\n",
       "       [-2.52163380e-01,  1.00000000e+00],\n",
       "       [-2.41460024e-01,  1.00000000e+00],\n",
       "       [-5.77004462e-01,  1.00000000e+00],\n",
       "       [-2.91216206e-01,  1.00000000e+00],\n",
       "       [-1.23661282e-01,  1.00000000e+00],\n",
       "       [-5.47887957e-01,  1.00000000e+00],\n",
       "       [-1.10894487e+00,  1.00000000e+00],\n",
       "       [-1.77715950e+00,  1.00000000e+00],\n",
       "       [ 6.49682784e-01,  1.00000000e+00],\n",
       "       [-1.19348494e+00,  1.00000000e+00],\n",
       "       [-1.73382231e-01,  1.00000000e+00],\n",
       "       [ 1.04951521e+00,  1.00000000e+00],\n",
       "       [ 1.67730813e-01,  1.00000000e+00],\n",
       "       [ 1.83906988e+00,  1.00000000e+00],\n",
       "       [-8.13109613e-01,  1.00000000e+00],\n",
       "       [ 2.44887223e+00,  1.00000000e+00],\n",
       "       [-7.80478562e-02,  1.00000000e+00],\n",
       "       [-1.27691308e+00,  1.00000000e+00],\n",
       "       [ 4.94448311e-02,  1.00000000e+00],\n",
       "       [ 5.91743405e-01,  1.00000000e+00],\n",
       "       [-1.87603002e-02,  1.00000000e+00],\n",
       "       [ 4.43190173e-01,  1.00000000e+00],\n",
       "       [ 1.21720548e+00,  1.00000000e+00],\n",
       "       [-1.05177934e+00,  1.00000000e+00],\n",
       "       [-1.17964730e+00,  1.00000000e+00],\n",
       "       [-6.50390326e-01,  1.00000000e+00],\n",
       "       [-6.14597472e-01,  1.00000000e+00],\n",
       "       [ 8.38927921e-02,  1.00000000e+00],\n",
       "       [-1.10744516e+00,  1.00000000e+00],\n",
       "       [ 4.82167906e-02,  1.00000000e+00],\n",
       "       [-7.49943794e-01,  1.00000000e+00],\n",
       "       [ 1.53552243e+00,  1.00000000e+00],\n",
       "       [-1.34361443e+00,  1.00000000e+00],\n",
       "       [-1.15823438e+00,  1.00000000e+00],\n",
       "       [-1.47921439e+00,  1.00000000e+00],\n",
       "       [-3.11957500e-01,  1.00000000e+00],\n",
       "       [-1.32488016e+00,  1.00000000e+00],\n",
       "       [-6.70779330e-01,  1.00000000e+00],\n",
       "       [ 1.52195215e-01,  1.00000000e+00],\n",
       "       [-1.74938278e-01,  1.00000000e+00],\n",
       "       [-1.77057309e-01,  1.00000000e+00],\n",
       "       [ 1.68401234e+00,  1.00000000e+00],\n",
       "       [ 1.19679886e-01,  1.00000000e+00],\n",
       "       [ 9.36397210e-01,  1.00000000e+00],\n",
       "       [ 9.60087069e-01,  1.00000000e+00],\n",
       "       [ 7.51764550e-01,  1.00000000e+00],\n",
       "       [-1.02810181e+00,  1.00000000e+00],\n",
       "       [ 5.49213054e-03,  1.00000000e+00],\n",
       "       [ 3.04057176e-01,  1.00000000e+00],\n",
       "       [-5.79413944e-01,  1.00000000e+00],\n",
       "       [ 6.18191086e-01,  1.00000000e+00],\n",
       "       [ 1.40588098e+00,  1.00000000e+00],\n",
       "       [-9.89624407e-01,  1.00000000e+00],\n",
       "       [-2.81196775e-01,  1.00000000e+00],\n",
       "       [-1.80548431e+00,  1.00000000e+00],\n",
       "       [ 1.95191097e-01,  1.00000000e+00],\n",
       "       [ 1.19480225e-01,  1.00000000e+00],\n",
       "       [ 1.56615978e-01,  1.00000000e+00],\n",
       "       [-4.23979731e-01,  1.00000000e+00],\n",
       "       [ 3.65003714e-01,  1.00000000e+00],\n",
       "       [-7.54884788e-01,  1.00000000e+00],\n",
       "       [ 1.84934234e+00,  1.00000000e+00],\n",
       "       [-2.86097284e-01,  1.00000000e+00],\n",
       "       [ 1.52034461e+00,  1.00000000e+00],\n",
       "       [ 4.17475435e-01,  1.00000000e+00],\n",
       "       [ 9.62119875e-01,  1.00000000e+00],\n",
       "       [ 7.65018958e-01,  1.00000000e+00],\n",
       "       [-9.65081090e-01,  1.00000000e+00],\n",
       "       [-3.64885223e-01,  1.00000000e+00],\n",
       "       [ 1.09036936e-01,  1.00000000e+00],\n",
       "       [ 2.19024088e-01,  1.00000000e+00],\n",
       "       [-1.97717711e+00,  1.00000000e+00],\n",
       "       [ 7.17331530e-01,  1.00000000e+00],\n",
       "       [ 1.25815787e+00,  1.00000000e+00],\n",
       "       [-3.97026683e-01,  1.00000000e+00],\n",
       "       [ 2.06130192e+00,  1.00000000e+00],\n",
       "       [ 2.97567657e-01,  1.00000000e+00],\n",
       "       [ 5.06074478e-01,  1.00000000e+00],\n",
       "       [ 2.43616449e-02,  1.00000000e+00],\n",
       "       [-2.01503190e-01,  1.00000000e+00],\n",
       "       [-1.51502611e+00,  1.00000000e+00],\n",
       "       [-1.06827076e-01,  1.00000000e+00],\n",
       "       [ 9.25988496e-01,  1.00000000e+00],\n",
       "       [ 2.67398894e+00,  1.00000000e+00],\n",
       "       [ 1.08179693e+00,  1.00000000e+00]])"
      ]
     },
     "execution_count": 7,
     "metadata": {},
     "output_type": "execute_result"
    }
   ],
   "source": [
    "X"
   ]
  },
  {
   "cell_type": "markdown",
   "metadata": {},
   "source": [
    "### GESTION DU VECTEUR TETA"
   ]
  },
  {
   "cell_type": "code",
   "execution_count": 8,
   "metadata": {},
   "outputs": [
    {
     "data": {
      "text/plain": [
       "(2, 1)"
      ]
     },
     "execution_count": 8,
     "metadata": {},
     "output_type": "execute_result"
    }
   ],
   "source": [
    "# teta non connu, on doit initilaiser téta avec des paramètres aléatoires\n",
    "theta = np.random.randn(2, 1)\n",
    "theta.shape"
   ]
  },
  {
   "cell_type": "code",
   "execution_count": 9,
   "metadata": {},
   "outputs": [
    {
     "data": {
      "text/plain": [
       "array([[0.09716907],\n",
       "       [0.65385419]])"
      ]
     },
     "execution_count": 9,
     "metadata": {},
     "output_type": "execute_result"
    }
   ],
   "source": [
    "theta # initialisé aléatoirement"
   ]
  },
  {
   "cell_type": "markdown",
   "metadata": {},
   "source": [
    "## 2. MODELE"
   ]
  },
  {
   "cell_type": "code",
   "execution_count": 10,
   "metadata": {},
   "outputs": [],
   "source": [
    "# modèle linéaire ==> f(x) =X*theta\n",
    "def model(X,theta):\n",
    "    return X.dot(theta)"
   ]
  },
  {
   "cell_type": "code",
   "execution_count": 11,
   "metadata": {},
   "outputs": [
    {
     "data": {
      "text/plain": [
       "array([[0.65375694],\n",
       "       [0.62691552],\n",
       "       [0.69229904],\n",
       "       [0.5741253 ],\n",
       "       [0.52984494],\n",
       "       [0.76154964],\n",
       "       [0.61487762],\n",
       "       [0.79744516],\n",
       "       [0.66119668],\n",
       "       [0.60408055],\n",
       "       [0.7419695 ],\n",
       "       [0.67710118],\n",
       "       [0.68034847],\n",
       "       [0.72560273],\n",
       "       [0.52944367],\n",
       "       [0.6293517 ],\n",
       "       [0.63039174],\n",
       "       [0.5977872 ],\n",
       "       [0.62555698],\n",
       "       [0.64183813],\n",
       "       [0.60061642],\n",
       "       [0.54609905],\n",
       "       [0.48116925],\n",
       "       [0.71698326],\n",
       "       [0.53788437],\n",
       "       [0.6370068 ],\n",
       "       [0.7558346 ],\n",
       "       [0.67015243],\n",
       "       [0.83255489],\n",
       "       [0.57484508],\n",
       "       [0.89180882],\n",
       "       [0.64627035],\n",
       "       [0.52977773],\n",
       "       [0.65865869],\n",
       "       [0.71135334],\n",
       "       [0.65203126],\n",
       "       [0.69691856],\n",
       "       [0.77212891],\n",
       "       [0.55165377],\n",
       "       [0.53922896],\n",
       "       [0.59065636],\n",
       "       [0.59413432],\n",
       "       [0.66200597],\n",
       "       [0.54624477],\n",
       "       [0.65853937],\n",
       "       [0.58098285],\n",
       "       [0.80305947],\n",
       "       [0.52329642],\n",
       "       [0.54130963],\n",
       "       [0.5101203 ],\n",
       "       [0.62354157],\n",
       "       [0.52511681],\n",
       "       [0.58867518],\n",
       "       [0.66864285],\n",
       "       [0.6368556 ],\n",
       "       [0.63664969],\n",
       "       [0.81748809],\n",
       "       [0.66548337],\n",
       "       [0.74484303],\n",
       "       [0.74714495],\n",
       "       [0.72690245],\n",
       "       [0.55395449],\n",
       "       [0.65438785],\n",
       "       [0.68339914],\n",
       "       [0.59755307],\n",
       "       [0.71392324],\n",
       "       [0.79046233],\n",
       "       [0.5576933 ],\n",
       "       [0.62653056],\n",
       "       [0.47841696],\n",
       "       [0.67282072],\n",
       "       [0.66546397],\n",
       "       [0.66907241],\n",
       "       [0.61265647],\n",
       "       [0.68932126],\n",
       "       [0.58050273],\n",
       "       [0.83355306],\n",
       "       [0.62605438],\n",
       "       [0.80158465],\n",
       "       [0.69441988],\n",
       "       [0.74734248],\n",
       "       [0.72819036],\n",
       "       [0.56007816],\n",
       "       [0.61839863],\n",
       "       [0.6644492 ],\n",
       "       [0.67513655],\n",
       "       [0.46173373],\n",
       "       [0.72355662],\n",
       "       [0.77610821],\n",
       "       [0.61527547],\n",
       "       [0.85414897],\n",
       "       [0.68276856],\n",
       "       [0.70302897],\n",
       "       [0.65622138],\n",
       "       [0.63427431],\n",
       "       [0.50664051],\n",
       "       [0.6434739 ],\n",
       "       [0.74383162],\n",
       "       [0.9136832 ],\n",
       "       [0.75897138]])"
      ]
     },
     "execution_count": 11,
     "metadata": {},
     "output_type": "execute_result"
    }
   ],
   "source": [
    "#  le modèle est disponible, on peut l'utiliser\n",
    "model(X, theta)"
   ]
  },
  {
   "cell_type": "code",
   "execution_count": 12,
   "metadata": {},
   "outputs": [
    {
     "data": {
      "image/png": "[encoded data removed]",
      "text/plain": [
       "<Figure size 432x288 with 1 Axes>"
      ]
     },
     "metadata": {
      "needs_background": "light"
     },
     "output_type": "display_data"
    }
   ],
   "source": [
    "# afficher avec matplotlib les résultats de notre model par rapport au dataset\n",
    "plt.plot(x, model(X, theta))\n",
    "plt.show()"
   ]
  },
  {
   "cell_type": "code",
   "execution_count": 13,
   "metadata": {},
   "outputs": [
    {
     "data": {
      "image/png": "[encoded data removed]",
      "text/plain": [
       "<Figure size 432x288 with 1 Axes>"
      ]
     },
     "metadata": {
      "needs_background": "light"
     },
     "output_type": "display_data"
    }
   ],
   "source": [
    "# en comparaison avec le dataset\n",
    "plt.scatter(x, y)\n",
    "plt.plot(x, model(X, theta), c='r')\n",
    "plt.show() #pas très bon modèle"
   ]
  },
  {
   "cell_type": "markdown",
   "metadata": {},
   "source": [
    "## 3. FONCTION COUT"
   ]
  },
  {
   "cell_type": "code",
   "execution_count": 14,
   "metadata": {},
   "outputs": [],
   "source": [
    "#  erreur quadratique moyenne\n",
    "def fonction_cout(X, y, theta):\n",
    "    m=len(y)\n",
    "    return 1/(2*m) * np.sum((model(X, theta)-y)**2)"
   ]
  },
  {
   "cell_type": "code",
   "execution_count": 15,
   "metadata": {},
   "outputs": [
    {
     "data": {
      "text/plain": [
       "3701.5184963111924"
      ]
     },
     "execution_count": 15,
     "metadata": {},
     "output_type": "execute_result"
    }
   ],
   "source": [
    "fonction_cout(X, y, theta) #fort coût car on veut qu'il tende vers 0"
   ]
  },
  {
   "cell_type": "markdown",
   "metadata": {},
   "source": [
    "## DESCENTE DE GRADIENT"
   ]
  },
  {
   "cell_type": "markdown",
   "metadata": {},
   "source": [
    "### GESTION DU GRADIENT"
   ]
  },
  {
   "cell_type": "code",
   "execution_count": 16,
   "metadata": {},
   "outputs": [],
   "source": [
    "# fonction pour calculer le gradient\n",
    "def gradient(X, y, theta):\n",
    "    m = len(y)\n",
    "    return 1/m * X.T.dot(model(X,theta) - y)"
   ]
  },
  {
   "cell_type": "markdown",
   "metadata": {},
   "source": [
    "### GESTION DE LA DESCENTE DE GRADIENT"
   ]
  },
  {
   "cell_type": "code",
   "execution_count": 17,
   "metadata": {},
   "outputs": [],
   "source": [
    "# fonction de la descente de gradient itérative\n",
    "def gradient_descente(X, y, theta, learning_rate, n_iterations):\n",
    "    for i in range(0, n_iterations):\n",
    "        theta = theta - learning_rate * gradient(X, y, theta) \n",
    "    return theta"
   ]
  },
  {
   "cell_type": "markdown",
   "metadata": {},
   "source": [
    "## 4. ENTRAINEMENT DU MODELE"
   ]
  },
  {
   "cell_type": "code",
   "execution_count": 18,
   "metadata": {},
   "outputs": [],
   "source": [
    "theta_final = gradient_descente(X, y, theta, learning_rate=0.001, n_iterations=1000)"
   ]
  },
  {
   "cell_type": "code",
   "execution_count": 19,
   "metadata": {},
   "outputs": [
    {
     "data": {
      "text/plain": [
       "array([[53.69747354],\n",
       "       [ 1.39986603]])"
      ]
     },
     "execution_count": 19,
     "metadata": {},
     "output_type": "execute_result"
    }
   ],
   "source": [
    "theta_final"
   ]
  },
  {
   "cell_type": "code",
   "execution_count": 30,
   "metadata": {},
   "outputs": [
    {
     "data": {
      "image/png": "[encoded data removed]",
      "text/plain": [
       "<Figure size 432x288 with 1 Axes>"
      ]
     },
     "metadata": {
      "needs_background": "light"
     },
     "output_type": "display_data"
    }
   ],
   "source": [
    "# est-ce que ce vecteur paramètre nous donne une bonne prédictions?\n",
    "predictions = model(X, theta_final)\n",
    "plt.scatter(x, y)\n",
    "plt.scatter(x, predictions, c='r')\n",
    "plt.show()\n",
    "# un peu mieux mais pas suffisant, l'apprentissage n'est pas terminé"
   ]
  },
  {
   "cell_type": "code",
   "execution_count": 21,
   "metadata": {},
   "outputs": [],
   "source": [
    "# faire continuer l'apprentissage \n",
    "#  soit en refait des itérations\n",
    "# soit on joue sur le learning rate .. .on fait de trop petit pas ==> 0.01."
   ]
  },
  {
   "cell_type": "code",
   "execution_count": 22,
   "metadata": {},
   "outputs": [],
   "source": [
    "theta_final_2 = gradient_descente(X, y, theta, learning_rate=0.01, n_iterations=1000)"
   ]
  },
  {
   "cell_type": "code",
   "execution_count": 23,
   "metadata": {},
   "outputs": [
    {
     "data": {
      "text/plain": [
       "array([[89.24792059],\n",
       "       [ 0.86766806]])"
      ]
     },
     "execution_count": 23,
     "metadata": {},
     "output_type": "execute_result"
    }
   ],
   "source": [
    "theta_final_2"
   ]
  },
  {
   "cell_type": "code",
   "execution_count": 31,
   "metadata": {},
   "outputs": [
    {
     "data": {
      "image/png": "[encoded data removed]",
      "text/plain": [
       "<Figure size 432x288 with 1 Axes>"
      ]
     },
     "metadata": {
      "needs_background": "light"
     },
     "output_type": "display_data"
    }
   ],
   "source": [
    "# est-ce que ce vecteur paramètre nous donne une bonne prédictions?\n",
    "predictions = model(X, theta_final_2)\n",
    "plt.scatter(x, y)\n",
    "plt.scatter(x, predictions, c='r')\n",
    "plt.show()\n",
    "# oui bien meilleur résultat en réentrainant le modèle"
   ]
  },
  {
   "cell_type": "markdown",
   "metadata": {},
   "source": [
    "## 5. COURBE D'APPRENTISSAGE"
   ]
  },
  {
   "cell_type": "markdown",
   "metadata": {},
   "source": [
    "## POUR EVOLUTION DU MODELE DANS LE TEMPS ==> MODIFIE GRADIENT"
   ]
  },
  {
   "cell_type": "code",
   "execution_count": 36,
   "metadata": {},
   "outputs": [],
   "source": [
    "# comment tracer la minimisation de notre fonction coût avec le nombre d'itérations?\n",
    "def gradient_descente_bis(X, y, theta, learning_rate, n_iterations):\n",
    "    # tableau rempli de zéro de dimension le nbre d'itérations\n",
    "    cost_history= np.zeros(n_iterations)\n",
    "    # ajouter un tableau theta_history initialisé par un tableau de 0 su n_iterations*2\n",
    "    theta_history = np.zeros((n_iterations, 2))\n",
    "    for i in range(0, n_iterations):\n",
    "        theta = theta - learning_rate * gradient(X, y, theta) \n",
    "        # on sauvegarde le coût pour chaque itération\n",
    "        cost_history[i] = fonction_cout(X, y, theta)\n",
    "        # on sauvegarde le theta pour chaque itération\n",
    "        theta_history[i,:]= theta.T\n",
    "    return theta, cost_history, theta_history"
   ]
  },
  {
   "cell_type": "code",
   "execution_count": 39,
   "metadata": {},
   "outputs": [
    {
     "data": {
      "image/png": "[encoded data removed]",
      "text/plain": [
       "<Figure size 432x288 with 1 Axes>"
      ]
     },
     "metadata": {
      "needs_background": "light"
     },
     "output_type": "display_data"
    }
   ],
   "source": [
    "learning_rate=0.3\n",
    "n_iterations=10\n",
    "\n",
    "theta_final_2, cost_history, theta_history = gradient_descente_bis(X, y, theta, learning_rate,\n",
    "                                                                   n_iterations)\n",
    "predictions = model(X, theta_final)\n",
    "\n",
    "plt.scatter(x, y)\n",
    "for i in range(n_iterations):\n",
    "    plt.plot(x, model(X, theta_history[i]))"
   ]
  },
  {
   "cell_type": "code",
   "execution_count": 27,
   "metadata": {},
   "outputs": [
    {
     "data": {
      "image/png": "[encoded data removed]",
      "text/plain": [
       "<Figure size 432x288 with 1 Axes>"
      ]
     },
     "metadata": {
      "needs_background": "light"
     },
     "output_type": "display_data"
    }
   ],
   "source": [
    "# tracer la progression de la fonction cout en fonction de l'itération\n",
    "plt.plot(range(1000), cost_history)\n",
    "plt.show()\n",
    "# on peut voir que passer 400 itérations la machine ne progresse plus"
   ]
  },
  {
   "cell_type": "markdown",
   "metadata": {},
   "source": [
    "## 6 COEFFICIENT DE DETERMINATION"
   ]
  },
  {
   "cell_type": "code",
   "execution_count": 28,
   "metadata": {},
   "outputs": [],
   "source": [
    "# comment évaluer la performance de notre modèle en utilisant le coefficient de détermination\n",
    "# coef de détermination = R au carré - méthode des moindes carrés\n",
    "def coefficient_determination(y, predictions):\n",
    "    u = ((y - predictions)**2).sum()\n",
    "    v = ((y - y.mean())**2).sum()\n",
    "    return 1 - u/v"
   ]
  },
  {
   "cell_type": "code",
   "execution_count": 29,
   "metadata": {},
   "outputs": [
    {
     "data": {
      "text/plain": [
       "0.9868617922879617"
      ]
     },
     "execution_count": 29,
     "metadata": {},
     "output_type": "execute_result"
    }
   ],
   "source": [
    "#  calcul pour y et vecteur prédiction\n",
    "coefficient_determination(y, predictions)\n",
    "# 0.95 proche de 1 ==> OK maispeu faire mieux"
   ]
  },
  {
   "cell_type": "code",
   "execution_count": null,
   "metadata": {},
   "outputs": [],
   "source": []
  }
 ],
 "metadata": {
  "kernelspec": {
   "display_name": "Python 3",
   "language": "python",
   "name": "python3"
  },
  "language_info": {
   "codemirror_mode": {
    "name": "ipython",
    "version": 3
   },
   "file_extension": ".py",
   "mimetype": "text/x-python",
   "name": "python",
   "nbconvert_exporter": "python",
   "pygments_lexer": "ipython3",
   "version": "3.8.5"
  }
 },
 "nbformat": 4,
 "nbformat_minor": 4
}
