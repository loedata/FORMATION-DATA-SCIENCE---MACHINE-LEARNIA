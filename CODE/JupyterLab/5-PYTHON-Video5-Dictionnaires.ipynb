{
 "cells": [
  {
   "cell_type": "code",
   "execution_count": 1,
   "metadata": {},
   "outputs": [
    {
     "data": {
      "text/plain": [
       "{'bananes': 5000, 'pommes': 2094, 'poires': 412809, 'cerises': 2893}"
      ]
     },
     "execution_count": 1,
     "metadata": {},
     "output_type": "execute_result"
    }
   ],
   "source": [
    "inventaire = {\n",
    "    \"bananes\" : 5000,\n",
    "    \"pommes\" : 2094,\n",
    "    \"poires\": 412809,\n",
    "    \"cerises\" : 2893\n",
    "}\n",
    "# afficher l'inventaire ==> c'est bien un dictionnaire entre {}\n",
    "inventaire"
   ]
  },
  {
   "cell_type": "code",
   "execution_count": 2,
   "metadata": {},
   "outputs": [
    {
     "data": {
      "text/plain": [
       "dict_values([5000, 2094, 412809, 2893])"
      ]
     },
     "execution_count": 2,
     "metadata": {},
     "output_type": "execute_result"
    }
   ],
   "source": [
    "# afficher toutes les valeurs\n",
    "inventaire.values()"
   ]
  },
  {
   "cell_type": "code",
   "execution_count": 3,
   "metadata": {},
   "outputs": [
    {
     "data": {
      "text/plain": [
       "dict_keys(['bananes', 'pommes', 'poires', 'cerises'])"
      ]
     },
     "execution_count": 3,
     "metadata": {},
     "output_type": "execute_result"
    }
   ],
   "source": [
    "# afficher les clés du dictionnaire\n",
    "inventaire.keys()"
   ]
  },
  {
   "cell_type": "code",
   "execution_count": 4,
   "metadata": {},
   "outputs": [
    {
     "data": {
      "text/plain": [
       "4"
      ]
     },
     "execution_count": 4,
     "metadata": {},
     "output_type": "execute_result"
    }
   ],
   "source": [
    "# vérifier la taille du dictionnaire\n",
    "len(inventaire)"
   ]
  },
  {
   "cell_type": "code",
   "execution_count": 5,
   "metadata": {},
   "outputs": [
    {
     "data": {
      "text/plain": [
       "{'bananes': 5000,\n",
       " 'pommes': 2094,\n",
       " 'poires': 412809,\n",
       " 'cerises': 2893,\n",
       " 'abricots': 4902}"
      ]
     },
     "execution_count": 5,
     "metadata": {},
     "output_type": "execute_result"
    }
   ],
   "source": [
    "# ajouter une association dans le dictionnaire\n",
    "inventaire[\"abricots\"]=4902\n",
    "inventaire"
   ]
  },
  {
   "cell_type": "code",
   "execution_count": 7,
   "metadata": {},
   "outputs": [
    {
     "ename": "KeyError",
     "evalue": "'peches'",
     "output_type": "error",
     "traceback": [
      "\u001b[1;31m---------------------------------------------------------------------------\u001b[0m",
      "\u001b[1;31mKeyError\u001b[0m                                  Traceback (most recent call last)",
      "\u001b[1;32m<ipython-input-7-989b26eebcac>\u001b[0m in \u001b[0;36m<module>\u001b[1;34m\u001b[0m\n\u001b[0;32m      1\u001b[0m \u001b[1;31m# la recherche de peches, clé qui n'existe pas provoque une erreur\u001b[0m\u001b[1;33m\u001b[0m\u001b[1;33m\u001b[0m\u001b[1;33m\u001b[0m\u001b[0m\n\u001b[0;32m      2\u001b[0m \u001b[1;31m# utiliser get() qui retourne une valeur par défaut si elle n'existe pas\u001b[0m\u001b[1;33m\u001b[0m\u001b[1;33m\u001b[0m\u001b[1;33m\u001b[0m\u001b[0m\n\u001b[1;32m----> 3\u001b[1;33m \u001b[0minventaire\u001b[0m\u001b[1;33m[\u001b[0m\u001b[1;34m'peches'\u001b[0m\u001b[1;33m]\u001b[0m\u001b[1;33m\u001b[0m\u001b[1;33m\u001b[0m\u001b[0m\n\u001b[0m",
      "\u001b[1;31mKeyError\u001b[0m: 'peches'"
     ]
    }
   ],
   "source": [
    "# la recherche de peches, clé qui n'existe pas provoque une erreur\n",
    "# utiliser get() qui retourne une valeur par défaut si elle n'existe pas\n",
    "inventaire['peches']"
   ]
  },
  {
   "cell_type": "code",
   "execution_count": 8,
   "metadata": {},
   "outputs": [
    {
     "name": "stdout",
     "output_type": "stream",
     "text": [
      "None\n"
     ]
    }
   ],
   "source": [
    "# pas d'erreur python, la fonction retourne rien 'None'\n",
    "print(inventaire.get('peches'))"
   ]
  },
  {
   "cell_type": "code",
   "execution_count": 9,
   "metadata": {},
   "outputs": [
    {
     "name": "stdout",
     "output_type": "stream",
     "text": [
      "toto\n"
     ]
    }
   ],
   "source": [
    "# on peut retourner une valeur par défaut ex 'toto'\n",
    "print(inventaire.get('peches','toto'))"
   ]
  },
  {
   "cell_type": "code",
   "execution_count": 10,
   "metadata": {},
   "outputs": [
    {
     "data": {
      "text/plain": [
       "412809"
      ]
     },
     "execution_count": 10,
     "metadata": {},
     "output_type": "execute_result"
    }
   ],
   "source": [
    "inventaire.get('poires','toto')"
   ]
  },
  {
   "cell_type": "code",
   "execution_count": 11,
   "metadata": {},
   "outputs": [
    {
     "data": {
      "text/plain": [
       "{'Paris': None, 'Londres': None, 'Bruxelles': None}"
      ]
     },
     "execution_count": 11,
     "metadata": {},
     "output_type": "execute_result"
    }
   ],
   "source": [
    "# méthode fromkeys :permet de créer un dico tout entier à partir d'une liste\n",
    "liste_1=('Paris','Londres','Bruxelles')\n",
    "inventaire.fromkeys(liste_1)"
   ]
  },
  {
   "cell_type": "code",
   "execution_count": 12,
   "metadata": {},
   "outputs": [
    {
     "data": {
      "text/plain": [
       "{'Paris': 'TOTO', 'Londres': 'TOTO', 'Bruxelles': 'TOTO'}"
      ]
     },
     "execution_count": 12,
     "metadata": {},
     "output_type": "execute_result"
    }
   ],
   "source": [
    "# avec valeur par défaut\n",
    "inventaire.fromkeys(liste_1, 'TOTO')"
   ]
  },
  {
   "cell_type": "code",
   "execution_count": 13,
   "metadata": {},
   "outputs": [],
   "source": [
    "# affiche la valeur de la clé abricots et supprime la clé abricots du dico\n",
    "abricots = inventaire.pop('abricots')"
   ]
  },
  {
   "cell_type": "code",
   "execution_count": 14,
   "metadata": {},
   "outputs": [
    {
     "data": {
      "text/plain": [
       "{'bananes': 5000, 'pommes': 2094, 'poires': 412809, 'cerises': 2893}"
      ]
     },
     "execution_count": 14,
     "metadata": {},
     "output_type": "execute_result"
    }
   ],
   "source": [
    "# plus de clé abricot\n",
    "inventaire"
   ]
  },
  {
   "cell_type": "code",
   "execution_count": 15,
   "metadata": {},
   "outputs": [
    {
     "data": {
      "text/plain": [
       "4902"
      ]
     },
     "execution_count": 15,
     "metadata": {},
     "output_type": "execute_result"
    }
   ],
   "source": [
    "# abricots contient la valeur de la clé abricot du dico\n",
    "abricots"
   ]
  },
  {
   "cell_type": "code",
   "execution_count": 17,
   "metadata": {},
   "outputs": [
    {
     "name": "stdout",
     "output_type": "stream",
     "text": [
      "bananes\n",
      "pommes\n",
      "poires\n",
      "cerises\n"
     ]
    }
   ],
   "source": [
    "# boucler sur un dictionnaire poura afficher les clés\n",
    "for i in inventaire:\n",
    "    print(i)"
   ]
  },
  {
   "cell_type": "code",
   "execution_count": 18,
   "metadata": {},
   "outputs": [
    {
     "name": "stdout",
     "output_type": "stream",
     "text": [
      "5000\n",
      "2094\n",
      "412809\n",
      "2893\n"
     ]
    }
   ],
   "source": [
    "# boucler sur un dictionnaire poura afficher les valeurs : values()\n",
    "for i in inventaire.values():\n",
    "    print(i)"
   ]
  },
  {
   "cell_type": "code",
   "execution_count": 22,
   "metadata": {},
   "outputs": [
    {
     "name": "stdout",
     "output_type": "stream",
     "text": [
      "bananes 5000\n",
      "pommes 2094\n",
      "poires 412809\n",
      "cerises 2893\n"
     ]
    }
   ],
   "source": [
    "# boucler sur un dictionnaire poura afficher les clés et les valeurs : items()\n",
    "for cle, valeur in inventaire.items():\n",
    "    print(cle,valeur)"
   ]
  },
  {
   "cell_type": "code",
   "execution_count": 24,
   "metadata": {},
   "outputs": [
    {
     "name": "stdout",
     "output_type": "stream",
     "text": [
      "[0, 1, 1, 2, 3, 5, 8, 13, 21, 34, 55, 89, 144, 233, 377, 610, 987]\n"
     ]
    }
   ],
   "source": [
    "# suite de FIBONACCI\n",
    "def fibonacci(n):\n",
    "    a = 0\n",
    "    b = 1\n",
    "    fib = [a]\n",
    "    while b < n:\n",
    "        a, b = b, a+b\n",
    "        fib.append(a)\n",
    "    return fib\n",
    "\n",
    "print(fibonacci(1000))"
   ]
  },
  {
   "cell_type": "code",
   "execution_count": 41,
   "metadata": {},
   "outputs": [
    {
     "name": "stdout",
     "output_type": "stream",
     "text": [
      "positif  :  [15, 0, 105520]\n",
      "negatif  :  [-2, -5245]\n"
     ]
    }
   ],
   "source": [
    "# créer une fonction 'trier' ayant pour arguments un dictionnaire nommé \n",
    "# 'classeur' liste et positif, liste et négatif \n",
    "# ranger dans la liste négatif ou liste positif\n",
    "\n",
    "# dictionnaire 'classeur'\n",
    "classeur = {\n",
    "    \"positif\" :[],\n",
    "    \"negatif\" :[],\n",
    "}\n",
    "\n",
    "# fonction trier\n",
    "def trier(classeur, nombre):\n",
    "    \"\"\"\n",
    "        classeur : dictionnaire taille 2\n",
    "        nombre : int\n",
    "        Range le nombre dans 'positifs' ou 'negatif' selon le signe de nombre\n",
    "    \"\"\"\n",
    "    if nombre >= 0:\n",
    "        classeur['positif'].append(nombre)\n",
    "    else:\n",
    "        classeur['negatif'].append(nombre)\n",
    "    return classeur\n",
    "\n",
    "trier(classeur,15)\n",
    "trier(classeur,-2)\n",
    "trier(classeur,0)\n",
    "trier(classeur,105520)\n",
    "trier(classeur,-5245)\n",
    "\n",
    "for cle, valeur in classeur.items():\n",
    "    print(cle,' : ',valeur)"
   ]
  },
  {
   "cell_type": "code",
   "execution_count": 1,
   "metadata": {},
   "outputs": [],
   "source": [
    "# Création d'un dictionnaire\n",
    "# les clés sont uniques\n",
    "# les valeurs peuvent être utilisées plusieurs fois\n",
    "traduction = {\n",
    "    \"chien\" : \"dog\",\n",
    "    \"chat\" : \"cat\",\n",
    "    \"souris\" : \"mouse\",\n",
    "    \"oiseau\" : \"bird\"\n",
    "    }"
   ]
  },
  {
   "cell_type": "code",
   "execution_count": 2,
   "metadata": {},
   "outputs": [],
   "source": [
    "inventaire = {\n",
    "    \"bananes\" : \"5000\",\n",
    "    \"poires\" : \"400\",\n",
    "    \"oranges\" : \"6000\",\n",
    "    \"pommes\" : \"1000\"\n",
    "    }"
   ]
  },
  {
   "cell_type": "code",
   "execution_count": 3,
   "metadata": {},
   "outputs": [],
   "source": [
    "dico_3 = {\n",
    "    \"dict_1\" : traduction,\n",
    "    \"dict_2\" : inventaire\n",
    "    }"
   ]
  },
  {
   "cell_type": "code",
   "execution_count": 4,
   "metadata": {},
   "outputs": [],
   "source": [
    "import numpy as np\n",
    "\n",
    "parametres = {\n",
    "    \"W1\" : np.random.randn(10,100),\n",
    "    \"b1\" : np.random.randn(10,1),\n",
    "    \"W2\" : np.random.randn(10,10),\n",
    "    \"b2\" : np.random.randn(10,1)\n",
    "    }"
   ]
  },
  {
   "cell_type": "code",
   "execution_count": null,
   "metadata": {},
   "outputs": [],
   "source": []
  }
 ],
 "metadata": {
  "kernelspec": {
   "display_name": "Python 3",
   "language": "python",
   "name": "python3"
  },
  "language_info": {
   "codemirror_mode": {
    "name": "ipython",
    "version": 3
   },
   "file_extension": ".py",
   "mimetype": "text/x-python",
   "name": "python",
   "nbconvert_exporter": "python",
   "pygments_lexer": "ipython3",
   "version": "3.8.3"
  }
 },
 "nbformat": 4,
 "nbformat_minor": 4
}
