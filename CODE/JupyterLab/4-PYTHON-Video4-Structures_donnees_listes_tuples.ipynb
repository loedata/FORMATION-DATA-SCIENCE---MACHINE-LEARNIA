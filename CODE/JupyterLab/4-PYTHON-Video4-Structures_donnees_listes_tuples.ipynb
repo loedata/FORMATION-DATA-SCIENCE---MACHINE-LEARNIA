{
 "cells": [
  {
   "cell_type": "code",
   "execution_count": 2,
   "metadata": {},
   "outputs": [],
   "source": [
    "villes = ['Paris', 'Berlin', 'Londres', 'Bruxelles']"
   ]
  },
  {
   "cell_type": "code",
   "execution_count": 4,
   "metadata": {},
   "outputs": [],
   "source": [
    "# pour avoir les méthodes des liste . plus Tab\n",
    "# Ajouter éléments à la fin\n",
    "villes.append('Dublin')"
   ]
  },
  {
   "cell_type": "code",
   "execution_count": 5,
   "metadata": {},
   "outputs": [
    {
     "data": {
      "text/plain": [
       "['Paris', 'Berlin', 'Londres', 'Bruxelles', 'Dublin', 'Dublin']"
      ]
     },
     "execution_count": 5,
     "metadata": {},
     "output_type": "execute_result"
    }
   ],
   "source": [
    "# Afficher la liste\n",
    "villes"
   ]
  },
  {
   "cell_type": "code",
   "execution_count": 10,
   "metadata": {},
   "outputs": [
    {
     "data": {
      "text/plain": [
       "['Paris',\n",
       " 'Berlin',\n",
       " 'Madrid',\n",
       " 'Madrid',\n",
       " 'Londres',\n",
       " 'Bruxelles',\n",
       " 'Dublin',\n",
       " 'Dublin']"
      ]
     },
     "execution_count": 10,
     "metadata": {},
     "output_type": "execute_result"
    }
   ],
   "source": [
    "# ajouter un élément à la liste à l'index 2\n",
    "villes.insert(2, 'Madrid')\n",
    "villes"
   ]
  },
  {
   "cell_type": "code",
   "execution_count": 11,
   "metadata": {},
   "outputs": [
    {
     "data": {
      "text/plain": [
       "['Paris',\n",
       " 'Berlin',\n",
       " 'Madrid',\n",
       " 'Madrid',\n",
       " 'Londres',\n",
       " 'Bruxelles',\n",
       " 'Dublin',\n",
       " 'Dublin']"
      ]
     },
     "execution_count": 11,
     "metadata": {},
     "output_type": "execute_result"
    }
   ],
   "source": [
    "villes"
   ]
  },
  {
   "cell_type": "code",
   "execution_count": 13,
   "metadata": {},
   "outputs": [
    {
     "data": {
      "text/plain": [
       "['Paris',\n",
       " 'Berlin',\n",
       " 'Madrid',\n",
       " 'Madrid',\n",
       " 'Londres',\n",
       " 'Bruxelles',\n",
       " 'Dublin',\n",
       " 'Dublin',\n",
       " 'Amsterdam',\n",
       " 'Rome']"
      ]
     },
     "execution_count": 13,
     "metadata": {},
     "output_type": "execute_result"
    }
   ],
   "source": [
    "# Ajouter une liste elle-même à la fin d'une liste\n",
    "villes_2=['Amsterdam', 'Rome']\n",
    "villes.extend(villes_2)\n",
    "villes"
   ]
  },
  {
   "cell_type": "code",
   "execution_count": 14,
   "metadata": {},
   "outputs": [
    {
     "data": {
      "text/plain": [
       "10"
      ]
     },
     "execution_count": 14,
     "metadata": {},
     "output_type": "execute_result"
    }
   ],
   "source": [
    "# nombre d'éléments dans la liste\n",
    "len(villes)"
   ]
  },
  {
   "cell_type": "code",
   "execution_count": 15,
   "metadata": {},
   "outputs": [
    {
     "data": {
      "text/plain": [
       "['Amsterdam',\n",
       " 'Berlin',\n",
       " 'Bruxelles',\n",
       " 'Dublin',\n",
       " 'Dublin',\n",
       " 'Londres',\n",
       " 'Madrid',\n",
       " 'Madrid',\n",
       " 'Paris',\n",
       " 'Rome']"
      ]
     },
     "execution_count": 15,
     "metadata": {},
     "output_type": "execute_result"
    }
   ],
   "source": [
    "# trier la liste alpha asc, desc\n",
    "villes.sort() # alpha par défaut\n",
    "villes"
   ]
  },
  {
   "cell_type": "code",
   "execution_count": 17,
   "metadata": {},
   "outputs": [
    {
     "data": {
      "text/plain": [
       "['Rome',\n",
       " 'Paris',\n",
       " 'Madrid',\n",
       " 'Madrid',\n",
       " 'Londres',\n",
       " 'Dublin',\n",
       " 'Dublin',\n",
       " 'Bruxelles',\n",
       " 'Berlin',\n",
       " 'Amsterdam']"
      ]
     },
     "execution_count": 17,
     "metadata": {},
     "output_type": "execute_result"
    }
   ],
   "source": [
    "# trier liste par alph desc\n",
    "villes.sort(reverse=True)\n",
    "villes"
   ]
  },
  {
   "cell_type": "code",
   "execution_count": 19,
   "metadata": {},
   "outputs": [
    {
     "data": {
      "text/plain": [
       "[2, 3, 23, 24, 51, 52, 61, 78]"
      ]
     },
     "execution_count": 19,
     "metadata": {},
     "output_type": "execute_result"
    }
   ],
   "source": [
    "liste_2 = [52, 51, 23, 61, 3, 2, 78, 24] # du plus petit au plus grand\n",
    "liste_2.sort()\n",
    "liste_2"
   ]
  },
  {
   "cell_type": "code",
   "execution_count": 20,
   "metadata": {},
   "outputs": [
    {
     "data": {
      "text/plain": [
       "2"
      ]
     },
     "execution_count": 20,
     "metadata": {},
     "output_type": "execute_result"
    }
   ],
   "source": [
    "# compter le nombre de fois une valeur dans laliste\n",
    "villes.count('Dublin')"
   ]
  },
  {
   "cell_type": "code",
   "execution_count": 21,
   "metadata": {},
   "outputs": [
    {
     "name": "stdout",
     "output_type": "stream",
     "text": [
      "Oui\n"
     ]
    }
   ],
   "source": [
    "# trouver si un élément est dans une liste\n",
    "if 'Paris' in villes:\n",
    "    print('Oui')\n",
    "else: \n",
    "    print('Non')"
   ]
  },
  {
   "cell_type": "code",
   "execution_count": 22,
   "metadata": {},
   "outputs": [
    {
     "name": "stdout",
     "output_type": "stream",
     "text": [
      "Rome\n",
      "Paris\n",
      "Madrid\n",
      "Madrid\n",
      "Londres\n",
      "Dublin\n",
      "Dublin\n",
      "Bruxelles\n",
      "Berlin\n",
      "Amsterdam\n"
     ]
    }
   ],
   "source": [
    "# afficher toutes les villes\n",
    "for i in villes:\n",
    "    print(i)"
   ]
  },
  {
   "cell_type": "code",
   "execution_count": 24,
   "metadata": {},
   "outputs": [
    {
     "name": "stdout",
     "output_type": "stream",
     "text": [
      "0 Rome\n",
      "1 Paris\n",
      "2 Madrid\n",
      "3 Madrid\n",
      "4 Londres\n",
      "5 Dublin\n",
      "6 Dublin\n",
      "7 Bruxelles\n",
      "8 Berlin\n",
      "9 Amsterdam\n"
     ]
    }
   ],
   "source": [
    "# afficher index et valeur\n",
    "for index, valeur in enumerate(villes):\n",
    "    print(index, valeur)"
   ]
  },
  {
   "cell_type": "code",
   "execution_count": 25,
   "metadata": {},
   "outputs": [
    {
     "name": "stdout",
     "output_type": "stream",
     "text": [
      "Rome 2\n",
      "Paris 3\n",
      "Madrid 23\n",
      "Madrid 24\n",
      "Londres 51\n",
      "Dublin 52\n",
      "Dublin 61\n",
      "Bruxelles 78\n"
     ]
    }
   ],
   "source": [
    "# zip : utiliser la boucle for avec 2 listes en parallèle\n",
    "# la bloucle for s'arrête sur la liste la plus courte\n",
    "for a, b in zip(villes, liste_2):\n",
    "    print(a, b)"
   ]
  },
  {
   "cell_type": "code",
   "execution_count": 26,
   "metadata": {},
   "outputs": [
    {
     "name": "stdout",
     "output_type": "stream",
     "text": [
      "0\n",
      "1\n",
      "1\n",
      "2\n",
      "3\n",
      "5\n",
      "8\n",
      "13\n",
      "21\n",
      "34\n",
      "55\n",
      "89\n",
      "144\n",
      "233\n",
      "377\n",
      "610\n",
      "987\n"
     ]
    }
   ],
   "source": [
    "def fibonacci(n):\n",
    "    a = 0\n",
    "    b = 1\n",
    "    while a < n:\n",
    "       print(a)\n",
    "       a, b = b, a + b\n",
    "\n",
    "fibonacci(1000)"
   ]
  },
  {
   "cell_type": "code",
   "execution_count": 44,
   "metadata": {},
   "outputs": [
    {
     "name": "stdout",
     "output_type": "stream",
     "text": [
      "a : 0\n",
      "a : 1\n",
      "a : 1\n",
      "a : 2\n",
      "a : 3\n",
      "a : 5\n",
      "a : 8\n",
      "a : 13\n",
      "a : 21\n",
      "a : 34\n",
      "a : 55\n",
      "a : 89\n",
      "a : 144\n",
      "a : 233\n",
      "a : 377\n",
      "a : 610\n",
      "a : 987\n",
      "[0, 1, 1, 2, 3, 5, 8, 13, 21, 34, 55, 89, 144, 233, 377, 610, 987]\n"
     ]
    }
   ],
   "source": [
    "def fibonacci(n):\n",
    "    a = 0\n",
    "    b = 1\n",
    "    liste=[a]\n",
    "    while a < n :\n",
    "       print('a :',a)\n",
    "       a, b = b, a + b\n",
    "       if (a < n):\n",
    "           liste.append(a)\n",
    "    print(liste)\n",
    "\n",
    "fibonacci(1000)"
   ]
  },
  {
   "cell_type": "code",
   "execution_count": 1,
   "metadata": {},
   "outputs": [],
   "source": [
    "def fibonacci(n):\n",
    "    \"\"\"\n",
    "    Suite de Fibonacci jusqu'à n.\n",
    "\n",
    "    Parameters\n",
    "    ----------\n",
    "    n : TYPE int\n",
    "        DESCRIPTION. nombre\n",
    "\n",
    "    Returns\n",
    "    -------\n",
    "    fib : la liste de la suite de fibonacci jusqu'à n.\n",
    "    \"\"\"\n",
    "    a,b = 0, 1\n",
    "    fib=[]\n",
    "    while a<n:\n",
    "        fib.append(a)\n",
    "        a, b = b, a+b\n",
    "    return fib"
   ]
  },
  {
   "cell_type": "code",
   "execution_count": 2,
   "metadata": {},
   "outputs": [],
   "source": [
    "def classer(classeur, nombre):\n",
    "    \"\"\"\n",
    "    Range le nombre transmis dans positif ou négatif\n",
    "\n",
    "    Parameters\n",
    "    ----------\n",
    "    classeur : dictionnaire contenant 2 listes\n",
    "               positif et négatif.\n",
    "    nombre : entier, nimbre à classe\n",
    "\n",
    "    Returns\n",
    "    -------\n",
    "    classeur : dictionnaire, nombre rangé dans = ou -\n",
    "    \"\"\"\n",
    "    if nombre>=0:\n",
    "        classeur['positif'].append(nombre)\n",
    "    else:\n",
    "        classeur['negatif'].append(nombre)\n",
    "    return classeur"
   ]
  },
  {
   "cell_type": "code",
   "execution_count": null,
   "metadata": {},
   "outputs": [],
   "source": []
  }
 ],
 "metadata": {
  "kernelspec": {
   "display_name": "Python 3",
   "language": "python",
   "name": "python3"
  },
  "language_info": {
   "codemirror_mode": {
    "name": "ipython",
    "version": 3
   },
   "file_extension": ".py",
   "mimetype": "text/x-python",
   "name": "python",
   "nbconvert_exporter": "python",
   "pygments_lexer": "ipython3",
   "version": "3.8.3"
  }
 },
 "nbformat": 4,
 "nbformat_minor": 4
}
